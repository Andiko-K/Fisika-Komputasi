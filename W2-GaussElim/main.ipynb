{
 "cells": [
  {
   "cell_type": "markdown",
   "id": "9c5d5a2d-ec80-4b58-a5a6-9171e247abff",
   "metadata": {},
   "source": [
    "<div style=\"text-align: center;\">\n",
    "    <h1> Eliminasi Gaussian </h1>\n",
    "</div>"
   ]
  },
  {
   "cell_type": "markdown",
   "id": "7fb9e9c5-5b8e-4090-bc75-60dea40ba6fa",
   "metadata": {},
   "source": [
    "$$\n",
    "\\begin{bmatrix}\n",
    "a & b & c & \\mid & d \\\\\n",
    "e & f & g & \\mid & h \\\\\n",
    "i & j & k & \\mid & l \\\\\n",
    "\\end{bmatrix}\n",
    "\\rightarrow\n",
    "\\begin{bmatrix}\n",
    "1 & 0 & 0 & \\mid & d \\\\\n",
    "0 & 1 & 0 & \\mid & h \\\\\n",
    "0 & 0 & 1 & \\mid & l \\\\\n",
    "\\end{bmatrix}\n",
    "$$\n",
    "\n",
    "\n"
   ]
  },
  {
   "cell_type": "markdown",
   "id": "25e012c4-b262-49b4-bcb1-3229c24dd8a7",
   "metadata": {},
   "source": [
    "Algoritma dari Eliminasi Gaussian diberikan sebagai berikut, yang mana penyelesaian suatu sistem persamaan linear dilakukan dengan mengubah *augmented matrix* (matrix sebelah kiri) menjadi matrix RROF *row-reduced echelon form* (matix sebelah kanan) sehingga nilai tiap variabel dapat ditentukan\n",
    "\n",
    "Kita akan bekerja dengan Matriks Non-Singular untuk menyederhanakan masalah yang akan kita kerjakan sehingga tiap baris persamaan memiliki solusi yang unik. "
   ]
  },
  {
   "cell_type": "markdown",
   "id": "3e21f307-b1d4-421a-8dcb-b042ea864443",
   "metadata": {},
   "source": [
    "Metode yang digunakan untuk dapat mencapai matriks RROF ialah:\n",
    "\n",
    "- **Pertukaran Baris Matriks:** Menyusun baris sehingga nilai konstanta pada diagonal utama tidaklah 0\n",
    "- **Skala Baris Matriks:** Perkalian suatu baris dengan nilai skalar bukan 0\n",
    "- **Perubahan Baris Matriks:**: Mengganti nilai seluruh baris matriks dengan penjumlahan terhadap dirinya sendiri dan baris lainnya\n"
   ]
  },
  {
   "cell_type": "markdown",
   "id": "2e7fcf23-ab3a-4da0-9f9b-ad8421ff3e05",
   "metadata": {},
   "source": [
    "## Daftar Isi\n",
    "\n",
    "Course Eliminasi Gaussian kali ini memiliki *difficulty curve* yang cukup tinggi daripada sebelumnya. Pastikan Anda telah menyelesaikan **Course Preliminaries NumpyIntroduction**"
   ]
  },
  {
   "cell_type": "markdown",
   "id": "4fd75991-ae85-438f-b5d5-f0c44945ac6c",
   "metadata": {},
   "source": [
    "## Import Dependencies"
   ]
  },
  {
   "cell_type": "code",
   "execution_count": 3,
   "id": "74bd9b06-0a50-481e-bf2a-668543086a5b",
   "metadata": {},
   "outputs": [],
   "source": [
    "import numpy as np"
   ]
  },
  {
   "cell_type": "markdown",
   "id": "f0505cf2-bab2-462e-a2fb-8d517a6de35b",
   "metadata": {},
   "source": [
    "## Augmentasi Matrix"
   ]
  },
  {
   "cell_type": "markdown",
   "id": "6ecb7672-e43b-4683-82d5-da67e5e8ce75",
   "metadata": {},
   "source": [
    "Diberikan sistem persamaan linear \n",
    "$$\n",
    "\\begin{align*}\n",
    "2x_1 + 3x_2 + 5x_3&= 12 \\\\\n",
    "-3x_1 - 2x_2 + 4x_3 &= -2 \\\\\n",
    "x_1 + x_2 - 2x_3  &= 8 \\\\\n",
    "\\end{align*}\n",
    "$$\n",
    "\n",
    "Matrikx $([A | B])$ dideklarasikan dengan (A) menyatakan matriks koefisien (kiri) sementara (B) menyatakan matriks konstan (kanan)\n",
    "\n",
    "$$A = \\begin{bmatrix} \\phantom-2&\\phantom-3&\\phantom-5 \\\\ -3&-2&\\phantom-4 \\\\ \\phantom-1&\\phantom-1&-2 \\end{bmatrix}$$\n",
    "\n",
    "$$B = \\begin{bmatrix} \\phantom-12 \\\\ -2 \\\\ \\phantom-8\\end{bmatrix}$$\n",
    "\n",
    "Dengan demikian \n",
    "\n",
    "$$([A | B]) = \\begin{bmatrix}\n",
    "\\phantom{-}2 & \\phantom{-}3 & \\phantom{-}5 & | & \\phantom{-}12 \\\\\n",
    "-3 & -2 & \\phantom-4 & | & -2 \\\\\n",
    "\\phantom{-}1 & \\phantom{-}1 & -2 & | & \\phantom{-}8 \\\\\n",
    "\\end{bmatrix}$$\n",
    "\n",
    "Proses augmentasi ini dapat dicapai dengan menggunakan fungsi bawaan `numpy.hstack()`"
   ]
  },
  {
   "cell_type": "code",
   "execution_count": 4,
   "id": "64e8969f-8d6b-440f-8883-5dab6f76a4c7",
   "metadata": {},
   "outputs": [],
   "source": [
    "def augmented_matrix(A,B):\n",
    "    '''\n",
    "    Menggabungkan matriks A,B secara horizontal\n",
    "\n",
    "    Parameter\n",
    "    - A -> (np.array) size nxn\n",
    "    - B -> (np.array) size nx1\n",
    "\n",
    "    Output:\n",
    "    stacked -> np.array matriks teraugmentasi\n",
    "    '''\n",
    "    #Tulis Kode Anda di sini!\n",
    "    stacked = np.hstack((A,B))\n",
    "    #Berhenti\n",
    "    return stacked"
   ]
  },
  {
   "cell_type": "markdown",
   "id": "1c539ddf-3526-4ad1-bdf1-d4b01930c109",
   "metadata": {},
   "source": [
    "Mari kita mencoba fungsi di atas dengan matriks A dan matriks B sebagaimana yang telah disebutkan"
   ]
  },
  {
   "cell_type": "markdown",
   "id": "7d2474d8-5815-41bc-99f3-b849ceaef551",
   "metadata": {},
   "source": [
    "`numpy.hstack()` umumnya digunakan untuk matrix 2D seperti yang kita pakai. Namun, dalam menggunakan fungsi ini terdapat hal-hal yang perlu diperhatikan:\n",
    "\n",
    "1. Tiap matriks memerlukan dimensi yang sama\n",
    "2. Jumlah baris dari tiap matriks perlu bernilai sama"
   ]
  },
  {
   "cell_type": "code",
   "execution_count": 48,
   "id": "3bb4c2d8-eea9-4ac7-b7be-f523ff3a3c44",
   "metadata": {},
   "outputs": [
    {
     "name": "stdout",
     "output_type": "stream",
     "text": [
      "Dimensi Matriks A: (3, 3)\n",
      "Dimensi Matriks B: (3, 1)\n",
      "Hasil Augmentasi Matriks: \n",
      "[[ 2  3  5 12]\n",
      " [-3 -2  4 -2]\n",
      " [ 1  1  2  8]]\n"
     ]
    }
   ],
   "source": [
    "A = np.array([[2,3,5],[-3,-2,4],[1,1,2]])\n",
    "B = np.array([[12,-2,8]]).reshape(-1,1)\n",
    "#Perhatikan bahwa matriks A dan B memiliki jumlah baris yang sama\n",
    "print(f'''Dimensi Matriks A: {A.shape}\n",
    "Dimensi Matriks B: {B.shape}''')\n",
    "print(f'Hasil Augmentasi Matriks: \\n{augmented_matrix(A,B)}')"
   ]
  },
  {
   "cell_type": "markdown",
   "id": "3b8f2412-e442-4ab5-81a4-309b0f25dd09",
   "metadata": {},
   "source": [
    "## Pertukaran Baris Matrix"
   ]
  },
  {
   "cell_type": "markdown",
   "id": "8d78ac99-fb4c-43e8-b748-3188ea18d72c",
   "metadata": {},
   "source": [
    "Perhatikan contoh matriks $M$ di bawah\n",
    "\n",
    "$$\n",
    "\\begin{bmatrix}\n",
    "\\color{red}0 & \\color{darkred}4 & \\color{darkred}8 & \\mid & \\color{darkred}1 \\\\\n",
    "6 & 8 & 6 & \\mid & 4 \\\\\n",
    "8 & 0 & 5 & \\mid & 9 \n",
    "\\end{bmatrix}\n",
    "\\rightarrow ?\n",
    "\\begin{bmatrix}\n",
    "1 & 0 & 0 & \\mid & d \\\\\n",
    "0 & 1 & 0 & \\mid & h \\\\\n",
    "0 & 0 & 1 & \\mid & l \\\\\n",
    "\\end{bmatrix}\n",
    "$$\n",
    "\n",
    "\n",
    "Dikarenakan terdapat angka 0 pada diagonal utama matriks, matriks M tidak akan dapat mencapai matriks RROF di samping kanan. \n",
    "\n",
    "Maka dari itu, diperlukan penukaran dari baris $M[0]$ dengan baris $M[n]$ yang memenuhi syarat (indeks baris dengan nilai bukan nol). \n",
    "Sebagai contoh, kita akan menukar kolom $M[0]$ dengan kolom $M[1]$\n",
    "\n",
    "\n",
    "$$\n",
    "\\begin{bmatrix}\n",
    "6 & 8 & 6 & \\mid & 4 \\\\\n",
    "\\color{red}0 & \\color{darkred}4 & \\color{darkred}8 & \\mid & \\color{darkred}1 \\\\\n",
    "8 & 0 & 5 & \\mid & 9 \n",
    "\\end{bmatrix}\n",
    "\\rightarrow \n",
    "\\begin{bmatrix}\n",
    "1 & 0 & 0 & \\mid & d \\\\\n",
    "0 & 1 & 0 & \\mid & h \\\\\n",
    "0 & 0 & 1 & \\mid & l \\\\\n",
    "\\end{bmatrix}\n",
    "$$\n",
    "\n",
    "\n",
    "Matriks ini telah memenuhi persyaratan. Untuk mencapai kondisi di atas kita perlu mendeklarasikan dua fungsi:\n",
    "\n",
    "- Fungsi Pertukaran Baris\n",
    "- Fungsi Pencarian Indeks Baris Bukan Nol\n",
    "\n",
    "\n"
   ]
  },
  {
   "cell_type": "markdown",
   "id": "7737b5f4-eb82-4148-93ca-1ec3559d014b",
   "metadata": {},
   "source": [
    "### Fungsi Pertukaran Baris"
   ]
  },
  {
   "cell_type": "code",
   "execution_count": 51,
   "id": "0d79a4f7-ae8d-4038-b80a-34acc44117c9",
   "metadata": {},
   "outputs": [],
   "source": [
    "def swap_rows(M, row1, row2):\n",
    "    '''\n",
    "    Menukar baris matriks row 1 <-> row2\n",
    "    '''\n",
    "    M = M.copy() #Copy supaya matriks tidak mengubah matriks original\n",
    "    M[[row1,row2]] = M[[row2,row1]]\n",
    "    return M"
   ]
  },
  {
   "cell_type": "markdown",
   "id": "3aee3b70-be42-4322-978f-0f7e819e5fad",
   "metadata": {},
   "source": [
    "Mari kita mulai mencoba fungsi di atas"
   ]
  },
  {
   "cell_type": "code",
   "execution_count": 55,
   "id": "4847da46-668e-4f40-adc4-7fa68b9d7f14",
   "metadata": {},
   "outputs": [
    {
     "name": "stdout",
     "output_type": "stream",
     "text": [
      "Matriks Awal:\n",
      "[[ 0  4  8  1]\n",
      " [ 6 -8  6  4]\n",
      " [ 8  0  5  9]]\n",
      "---------------\n",
      "Matriks Akhir: \n",
      "[[ 6 -8  6  4]\n",
      " [ 0  4  8  1]\n",
      " [ 8  0  5  9]]\n"
     ]
    }
   ],
   "source": [
    "M = np.array([[0,4,8,1],[6,-8,6,4],[8,0,5,9]])\n",
    "row1 = 0\n",
    "row2 = 1\n",
    "print(f'Matriks Awal:\\n{M}')\n",
    "print('---------------')\n",
    "print(f'Matriks Akhir: \\n{swap_rows(M,row1,row2)}')"
   ]
  },
  {
   "cell_type": "markdown",
   "id": "cbaca763-302a-43af-95ad-0a1e707d498e",
   "metadata": {},
   "source": [
    "### Fungsi Pencarian Indeks Baris Bukan Nol"
   ]
  },
  {
   "cell_type": "code",
   "execution_count": 69,
   "id": "52a31a43-1a13-4578-bb0b-708b4faad541",
   "metadata": {},
   "outputs": [],
   "source": [
    "def non_zero_column(M, column, row_start=0):\n",
    "    '''\n",
    "    Mendapatkan index dari suatu baris dengan nilai tidak nol pertama\n",
    "    pada kolom yang ingin dicari.\n",
    "\n",
    "    Parameter:\n",
    "    -matrix (np.array)\n",
    "    -column (int): index kolom yang ingin dicari\n",
    "    -row_start (int): index baris pertama untuk memulai pencarian\n",
    "\n",
    "    Output:\n",
    "    int (index baris) atau False jika tidak ditemukan nilai tidak nol\n",
    "    '''\n",
    "\n",
    "    column_array = M[row_start:, column]\n",
    "    for i, val in enumerate(column_array):\n",
    "        #pengulangan untuk tiap nilai pada column_array\n",
    "        if not np.isclose(val, 0, atol = 1e-5):\n",
    "            #np.isclose untuk mencari nilai yang mendekati 0 dengan toleransi 1e-5\n",
    "            index = i+row_start\n",
    "            return index\n",
    "    #return False jika tidak ditemukan nilai tidak nol\n",
    "    return False"
   ]
  },
  {
   "cell_type": "markdown",
   "id": "28e2c751-ad82-4e90-8adf-9ebf699910a5",
   "metadata": {},
   "source": [
    "Mari kita mulai mencoba fungsi di atas"
   ]
  },
  {
   "cell_type": "code",
   "execution_count": 73,
   "id": "52af49b8-f9e3-47f5-90bc-bc31f3fcceaa",
   "metadata": {},
   "outputs": [
    {
     "name": "stdout",
     "output_type": "stream",
     "text": [
      "Matriks Awal:\n",
      "[[ 0  4  8  1]\n",
      " [ 6 -8  6  4]\n",
      " [ 8  0  5  9]]\n",
      "Indeks Baris Bukan Nol Pertama pada Kolom-0 ialah 1\n"
     ]
    }
   ],
   "source": [
    "M = np.array([[0,4,8,1],[6,-8,6,4],[8,0,5,9]])\n",
    "#Dikarenakan terdapat angka 0 pada M[0,0], kita akan mendeklarasikan\n",
    "#column = 0 dan row_start = 0\n",
    "column = 0\n",
    "row_start = 0\n",
    "print(f'Matriks Awal:\\n{M}')\n",
    "print(f'Indeks Baris Bukan Nol Pertama pada Kolom-{column} ialah {non_zero_column(M,0, row_start)}')"
   ]
  },
  {
   "cell_type": "markdown",
   "id": "1c21cc44-fb86-4403-b048-ebbb49ea8ff1",
   "metadata": {},
   "source": [
    "Dengan menggabungkan fungsi `swap_rows()` dan `non_zero_column()`, kita bisa mengautomatisasi proses perubahan baris pivot"
   ]
  },
  {
   "cell_type": "code",
   "execution_count": 76,
   "id": "b17091e0-ab9e-444e-8cb4-ef48c3c7d81a",
   "metadata": {},
   "outputs": [
    {
     "name": "stdout",
     "output_type": "stream",
     "text": [
      "Matriks Awal:\n",
      "[[0 5 9 1 0]\n",
      " [6 0 6 9 4]\n",
      " [8 3 0 2 9]]\n",
      "\n",
      "Matriks Akhir: \n",
      "[[8 3 0 2 9]\n",
      " [0 5 9 1 0]\n",
      " [6 0 6 9 4]]\n"
     ]
    }
   ],
   "source": [
    "M = np.array([[0,5,9,1,0],[6,0,6,9,4],[8,3,0,2,9]])\n",
    "num_rows = M.shape[0] #Banyaknya baris dari matriks M\n",
    "\n",
    "print(f'Matriks Awal:\\n{M}\\n')\n",
    "\n",
    "for row in range(num_rows): #Iterasi untuk tiap baris M untuk memastikan nilai pivot\n",
    "    column = row #Pivot berada pada diagonal utama M[n,n]\n",
    "    pivot_candidate = M[row, column] #Mendapatkan nilai dari pivot pada M[n,n]\n",
    "    \n",
    "    if np.isclose(pivot_candidate, 0): #Pastikan bahwa nilai pivot M[n,n] tidak bernilai 0\n",
    "        #Jika nilai pivot M[n,n] bernilai 0...\n",
    "        pivot_index = non_zero_column(M,column,row) #Cari indeks baris terdekat dengan nilai kolom bukan nol\n",
    "        #Lakukan pertukaran baris\n",
    "        M = swap_rows(M, row, pivot_index)\n",
    "        \n",
    "print(f'Matriks Akhir: \\n{M}')"
   ]
  },
  {
   "cell_type": "code",
   "execution_count": null,
   "id": "1e3bf8ce-f331-4a51-b689-af0407dfd57c",
   "metadata": {},
   "outputs": [],
   "source": []
  }
 ],
 "metadata": {
  "kernelspec": {
   "display_name": "Python (skin)",
   "language": "python",
   "name": "skin"
  },
  "language_info": {
   "codemirror_mode": {
    "name": "ipython",
    "version": 3
   },
   "file_extension": ".py",
   "mimetype": "text/x-python",
   "name": "python",
   "nbconvert_exporter": "python",
   "pygments_lexer": "ipython3",
   "version": "3.10.4"
  }
 },
 "nbformat": 4,
 "nbformat_minor": 5
}
