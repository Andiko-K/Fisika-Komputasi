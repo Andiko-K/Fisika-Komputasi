{
 "cells": [
  {
   "cell_type": "markdown",
   "id": "9c5d5a2d-ec80-4b58-a5a6-9171e247abff",
   "metadata": {},
   "source": [
    "<div style=\"text-align: center;\">\n",
    "    <h1> Eliminasi Gaussian </h1>\n",
    "</div>"
   ]
  },
  {
   "cell_type": "markdown",
   "id": "7fb9e9c5-5b8e-4090-bc75-60dea40ba6fa",
   "metadata": {},
   "source": [
    "$$\n",
    "\\begin{bmatrix}\n",
    "a & b & c & \\mid & d \\\\\n",
    "e & f & g & \\mid & h \\\\\n",
    "i & j & k & \\mid & l \\\\\n",
    "\\end{bmatrix}\n",
    "\\rightarrow\n",
    "\\begin{bmatrix}\n",
    "1 & 0 & 0 & \\mid & d \\\\\n",
    "0 & 1 & 0 & \\mid & h \\\\\n",
    "0 & 0 & 1 & \\mid & l \\\\\n",
    "\\end{bmatrix}\n",
    "$$\n",
    "\n",
    "\n"
   ]
  },
  {
   "cell_type": "markdown",
   "id": "25e012c4-b262-49b4-bcb1-3229c24dd8a7",
   "metadata": {},
   "source": [
    "Algoritma dari Eliminasi Gaussian diberikan sebagai berikut, yang mana penyelesaian suatu sistem persamaan linear dilakukan dengan mengubah *augmented matrix* (matrix sebelah kiri) menjadi matrix RREF *row-reduced echelon form* (matix sebelah kanan) sehingga nilai tiap variabel dapat ditentukan\n",
    "\n",
    "Kita akan bekerja dengan Matriks Non-Singular untuk menyederhanakan masalah yang akan kita kerjakan sehingga tiap baris persamaan memiliki solusi yang unik. "
   ]
  },
  {
   "cell_type": "markdown",
   "id": "3e21f307-b1d4-421a-8dcb-b042ea864443",
   "metadata": {},
   "source": [
    "Metode yang digunakan untuk dapat mencapai matriks RREF ialah:\n",
    "\n",
    "- **Pertukaran Baris Matriks:** Menyusun baris sehingga nilai konstanta pada diagonal utama tidaklah 0\n",
    "- **Skala Baris Matriks:** Perkalian suatu baris dengan nilai skalar bukan 0\n",
    "- **Perubahan Baris Matriks:**: Mengganti nilai seluruh baris matriks dengan penjumlahan terhadap dirinya sendiri dan baris lainnya\n"
   ]
  },
  {
   "cell_type": "markdown",
   "id": "2e7fcf23-ab3a-4da0-9f9b-ad8421ff3e05",
   "metadata": {},
   "source": [
    "## Daftar Isi\n",
    "\n",
    "Course Eliminasi Gaussian kali ini memiliki *difficulty curve* yang cukup tinggi daripada sebelumnya. Pastikan Anda telah menyelesaikan **Course Preliminaries NumpyIntroduction**\n",
    "\n",
    "1. [Import Dependencies](#import)\n",
    "2. [Augmentasi Matrix](#augment)\n",
    "3. [Pertukaran Baris Matrix](#swaprow) <br>\n",
    "    3.1 [Fungsi Pertukaran Baris](#swap) <br>\n",
    "    3.2 [Fungsi Pencarian Indeks Bukan Nol](#search)\n",
    "4. [RREF](#rref)\n"
   ]
  },
  {
   "cell_type": "markdown",
   "id": "4fd75991-ae85-438f-b5d5-f0c44945ac6c",
   "metadata": {},
   "source": [
    "## Import Dependencies <a id = 'import'></a>"
   ]
  },
  {
   "cell_type": "code",
   "execution_count": 1,
   "id": "74bd9b06-0a50-481e-bf2a-668543086a5b",
   "metadata": {},
   "outputs": [],
   "source": [
    "import numpy as np\n",
    "import utils"
   ]
  },
  {
   "cell_type": "markdown",
   "id": "f0505cf2-bab2-462e-a2fb-8d517a6de35b",
   "metadata": {},
   "source": [
    "## Augmentasi Matrix <a id = 'augment'></a>"
   ]
  },
  {
   "cell_type": "markdown",
   "id": "6ecb7672-e43b-4683-82d5-da67e5e8ce75",
   "metadata": {},
   "source": [
    "Diberikan sistem persamaan linear \n",
    "$$\n",
    "\\begin{align*}\n",
    "2x_1 + 3x_2 + 5x_3&= 12 \\\\\n",
    "-3x_1 - 2x_2 + 4x_3 &= -2 \\\\\n",
    "x_1 + x_2 - 2x_3  &= 8 \\\\\n",
    "\\end{align*}\n",
    "$$\n",
    "\n",
    "Matrikx $([A | B])$ dideklarasikan dengan (A) menyatakan matriks koefisien (kiri) sementara (B) menyatakan matriks konstan (kanan)\n",
    "\n",
    "$$A = \\begin{bmatrix} \\phantom-2&\\phantom-3&\\phantom-5 \\\\ -3&-2&\\phantom-4 \\\\ \\phantom-1&\\phantom-1&-2 \\end{bmatrix}$$\n",
    "\n",
    "$$B = \\begin{bmatrix} \\phantom-12 \\\\ -2 \\\\ \\phantom-8\\end{bmatrix}$$\n",
    "\n",
    "Dengan demikian \n",
    "\n",
    "$$([A | B]) = \\begin{bmatrix}\n",
    "\\phantom{-}2 & \\phantom{-}3 & \\phantom{-}5 & | & \\phantom{-}12 \\\\\n",
    "-3 & -2 & \\phantom-4 & | & -2 \\\\\n",
    "\\phantom{-}1 & \\phantom{-}1 & -2 & | & \\phantom{-}8 \\\\\n",
    "\\end{bmatrix}$$\n",
    "\n",
    "Proses augmentasi ini dapat dicapai dengan menggunakan fungsi bawaan `numpy.hstack()`"
   ]
  },
  {
   "cell_type": "code",
   "execution_count": 2,
   "id": "64e8969f-8d6b-440f-8883-5dab6f76a4c7",
   "metadata": {},
   "outputs": [],
   "source": [
    "def augmented_matrix(A,B):\n",
    "    '''\n",
    "    Menggabungkan matriks A,B secara horizontal\n",
    "\n",
    "    Parameter\n",
    "    - A -> (np.array) size nxn\n",
    "    - B -> (np.array) size nx1\n",
    "\n",
    "    Output:\n",
    "    stacked -> np.array matriks teraugmentasi\n",
    "    '''\n",
    "    #Tulis Kode Anda di bawah!\n",
    "    stacked = np.hstack((None, None))\n",
    "    #Berhenti\n",
    "    return stacked"
   ]
  },
  {
   "cell_type": "markdown",
   "id": "1c539ddf-3526-4ad1-bdf1-d4b01930c109",
   "metadata": {},
   "source": [
    "Mari kita mencoba fungsi di atas dengan matriks A dan matriks B sebagaimana yang telah disebutkan"
   ]
  },
  {
   "cell_type": "markdown",
   "id": "7d2474d8-5815-41bc-99f3-b849ceaef551",
   "metadata": {},
   "source": [
    "`numpy.hstack()` umumnya digunakan untuk matrix 2D seperti yang kita pakai. Namun, dalam menggunakan fungsi ini terdapat hal-hal yang perlu diperhatikan:\n",
    "\n",
    "1. Tiap matriks memerlukan dimensi yang sama\n",
    "2. Jumlah baris dari tiap matriks perlu bernilai sama"
   ]
  },
  {
   "cell_type": "code",
   "execution_count": null,
   "id": "1d5ba261-69a7-4458-9d7a-53caa19969b2",
   "metadata": {},
   "outputs": [],
   "source": [
    "A = np.array([[2,3,5],[-3,-2,4],[1,1,2]])\n",
    "B = np.array([[12,-2,8]]).reshape(-1,1)\n",
    "#Perhatikan bahwa matriks A dan B memiliki jumlah baris yang sama\n",
    "print(f'''Dimensi Matriks A: {A.shape}\n",
    "Dimensi Matriks B: {B.shape}''')\n",
    "print(f'Hasil Augmentasi Matriks: \\n{augmented_matrix(A,B)}')"
   ]
  },
  {
   "cell_type": "markdown",
   "id": "c2ef88f5-0d40-4bb5-a928-8739f992d16f",
   "metadata": {},
   "source": [
    "Jika Hasil Matriks perlu sesuai dengan matriks di bawah, lanjutkan pada tahap selanjutnya\n",
    "\n",
    "$$\\begin{bmatrix} 2&3&5&12 \\\\ -3&-2&4&-2 \\\\  1&1&2&8 \\end{bmatrix}$$"
   ]
  },
  {
   "cell_type": "markdown",
   "id": "3b8f2412-e442-4ab5-81a4-309b0f25dd09",
   "metadata": {},
   "source": [
    "## Pertukaran Baris Matrix <a id = 'swaprow'></a>"
   ]
  },
  {
   "cell_type": "markdown",
   "id": "8d78ac99-fb4c-43e8-b748-3188ea18d72c",
   "metadata": {},
   "source": [
    "Perhatikan contoh matriks $M$ di bawah\n",
    "\n",
    "$$\n",
    "\\begin{bmatrix}\n",
    "\\color{red}0 & \\color{darkred}4 & \\color{darkred}8 & \\mid & \\color{darkred}1 \\\\\n",
    "6 & 8 & 6 & \\mid & 4 \\\\\n",
    "8 & 0 & 5 & \\mid & 9 \n",
    "\\end{bmatrix}\n",
    "\\rightarrow ?\n",
    "\\begin{bmatrix}\n",
    "1 & 0 & 0 & \\mid & d \\\\\n",
    "0 & 1 & 0 & \\mid & h \\\\\n",
    "0 & 0 & 1 & \\mid & l \\\\\n",
    "\\end{bmatrix}\n",
    "$$\n",
    "\n",
    "\n",
    "Dikarenakan terdapat angka 0 pada diagonal utama matriks, matriks M tidak akan dapat mencapai matriks RROF di samping kanan. \n",
    "\n",
    "Maka dari itu, diperlukan penukaran dari baris $M[0]$ dengan baris $M[n]$ yang memenuhi syarat (indeks baris dengan nilai bukan nol). \n",
    "Sebagai contoh, kita akan menukar kolom $M[0]$ dengan kolom $M[1]$\n",
    "\n",
    "\n",
    "$$\n",
    "\\begin{bmatrix}\n",
    "6 & 8 & 6 & \\mid & 4 \\\\\n",
    "\\color{red}0 & \\color{darkred}4 & \\color{darkred}8 & \\mid & \\color{darkred}1 \\\\\n",
    "8 & 0 & 5 & \\mid & 9 \n",
    "\\end{bmatrix}\n",
    "\\rightarrow \n",
    "\\begin{bmatrix}\n",
    "1 & 0 & 0 & \\mid & d \\\\\n",
    "0 & 1 & 0 & \\mid & h \\\\\n",
    "0 & 0 & 1 & \\mid & l \\\\\n",
    "\\end{bmatrix}\n",
    "$$\n",
    "\n",
    "\n",
    "Matriks ini telah memenuhi persyaratan. Untuk mencapai kondisi di atas kita perlu mendeklarasikan dua fungsi:\n",
    "\n",
    "- Fungsi Pertukaran Baris\n",
    "- Fungsi Pencarian Indeks Baris Bukan Nol\n",
    "\n",
    "\n"
   ]
  },
  {
   "cell_type": "markdown",
   "id": "7737b5f4-eb82-4148-93ca-1ec3559d014b",
   "metadata": {},
   "source": [
    "### Fungsi Pertukaran Baris <a id = 'swap'></a>"
   ]
  },
  {
   "cell_type": "code",
   "execution_count": 4,
   "id": "0d79a4f7-ae8d-4038-b80a-34acc44117c9",
   "metadata": {},
   "outputs": [],
   "source": [
    "def swap_rows(M, row1, row2):\n",
    "    '''\n",
    "    Menukar baris matriks row 1 <-> row2\n",
    "    '''\n",
    "    M = M.copy()  ##Copy supaya matriks tidak mengubah matriks original\n",
    "    # Tulis Kode Anda di bawah\n",
    "    M[[None,None]] = M[[None,None]]\n",
    "    #Berhenti\n",
    "    return M"
   ]
  },
  {
   "cell_type": "code",
   "execution_count": 5,
   "id": "74d7e816-474a-4063-bf58-680df50899bf",
   "metadata": {},
   "outputs": [
    {
     "data": {
      "text/html": [
       "\n",
       "    <details>\n",
       "        <summary>Klik Untuk Melihat Tips!</summary>\n",
       "        <p>\n",
       "Tukar Baris row1 dengan row2</p>\n",
       "    </details>\n",
       "    "
      ],
      "text/plain": [
       "<IPython.core.display.HTML object>"
      ]
     },
     "metadata": {},
     "output_type": "display_data"
    }
   ],
   "source": [
    "display(utils.tips1)"
   ]
  },
  {
   "cell_type": "code",
   "execution_count": 6,
   "id": "2211f9d6-3dc0-42b1-a279-5bb0cedd495a",
   "metadata": {},
   "outputs": [
    {
     "data": {
      "text/html": [
       "\n",
       "    <details>\n",
       "        <summary>Klik Untuk Melihat Tips!</summary>\n",
       "        <p>\n",
       "<pre><code>\n",
       "def swap_rows(M, row1, row2):\n",
       "    M = M.copy()\n",
       "    M[[row1,row2]] = M[[row2,row1]]\n",
       "    return M\n",
       "</code></pre>\n",
       "</p>\n",
       "    </details>\n",
       "    "
      ],
      "text/plain": [
       "<IPython.core.display.HTML object>"
      ]
     },
     "metadata": {},
     "output_type": "display_data"
    }
   ],
   "source": [
    "display(utils.tips2)"
   ]
  },
  {
   "cell_type": "markdown",
   "id": "3aee3b70-be42-4322-978f-0f7e819e5fad",
   "metadata": {},
   "source": [
    "Mari kita mulai mencoba fungsi di atas."
   ]
  },
  {
   "cell_type": "code",
   "execution_count": null,
   "id": "c187d218-7cf1-4ed8-b093-580228a572b8",
   "metadata": {},
   "outputs": [],
   "source": [
    "M = np.array([[0,4,8,1],[6,-8,6,4],[8,0,5,9]])\n",
    "row1 = 0\n",
    "row2 = 1\n",
    "print(f'Matriks Awal:\\n{M}')\n",
    "print('---------------')\n",
    "print(f'Matriks Akhir: \\n{swap_rows(M,row1,row2)}')"
   ]
  },
  {
   "cell_type": "markdown",
   "id": "bdc59bb8-7f26-4044-9019-f21f924dda3d",
   "metadata": {},
   "source": [
    "Jika Hasil Matriks perlu sesuai dengan matriks di bawah, lanjutkan pada tahap selanjutnya\n",
    "\n",
    "$$\\begin{bmatrix} 6&-8&6&4 \\\\ 0&4&8&1 \\\\  8&0&5&9 \\end{bmatrix}$$"
   ]
  },
  {
   "cell_type": "markdown",
   "id": "cbaca763-302a-43af-95ad-0a1e707d498e",
   "metadata": {},
   "source": [
    "### Fungsi Pencarian Indeks Baris Bukan Nol <a id = 'search'></a>"
   ]
  },
  {
   "cell_type": "code",
   "execution_count": 8,
   "id": "52a31a43-1a13-4578-bb0b-708b4faad541",
   "metadata": {},
   "outputs": [],
   "source": [
    "def non_zero_column(M, column, row_start=0):\n",
    "    '''\n",
    "    Mendapatkan index dari suatu baris dengan nilai tidak nol pertama\n",
    "    pada kolom yang ingin dicari.\n",
    "\n",
    "    Parameter:\n",
    "    -matrix (np.array)\n",
    "    -column (int): index kolom yang ingin dicari\n",
    "    -row_start (int): index baris pertama untuk memulai pencarian\n",
    "\n",
    "    Output:\n",
    "    int (index baris) atau False jika tidak ditemukan nilai tidak nol\n",
    "    '''\n",
    "\n",
    "    column_array = M[row_start:, column]\n",
    "    #Tulis Kode Anda di bawah!\n",
    "    for i, val in enumerate(None):\n",
    "        ##ppengulangan untuk tiap nilai pada column_array\n",
    "        if not np.isclose(val, 0, atol = 1e-5):\n",
    "            ##np.isclose untuk mencari nilai yang mendekati 0 dengan toleransi 1e-5\n",
    "            index = None\n",
    "            return None\n",
    "    #Berhenti.\n",
    "    ##return False jika tidak ditemukan nilai tidak nol\n",
    "    return False"
   ]
  },
  {
   "cell_type": "code",
   "execution_count": 9,
   "id": "eab32705-6855-45ba-9bfb-186c5a3b628f",
   "metadata": {},
   "outputs": [
    {
     "data": {
      "text/html": [
       "\n",
       "    <details>\n",
       "        <summary>Klik Untuk Melihat Tips!</summary>\n",
       "        <p>\n",
       "Kita perlu melakukan iterasi untuk tiap elemen kolom.\n",
       "Iterasi bertujuan untuk mendapatkan indeks kolom dengan elemen bukan nol pertama.\n",
       "Fungsi akan memberikan output indeks kolom jika elemen bukan nol ditemukan\n",
       "</p>\n",
       "    </details>\n",
       "    "
      ],
      "text/plain": [
       "<IPython.core.display.HTML object>"
      ]
     },
     "metadata": {},
     "output_type": "display_data"
    }
   ],
   "source": [
    "display(utils.tips3)"
   ]
  },
  {
   "cell_type": "code",
   "execution_count": 10,
   "id": "a07328d8-22b2-4022-8fda-a61fa26a6bfb",
   "metadata": {},
   "outputs": [
    {
     "data": {
      "text/html": [
       "\n",
       "    <details>\n",
       "        <summary>Klik Untuk Melihat Tips!</summary>\n",
       "        <p>\n",
       "<pre><code>\n",
       "def non_zero_column(M, column, row_start=0):\n",
       "    column_array = M[row_start:, column]\n",
       "    for i, val in enumerate(column_array):\n",
       "        if not np.isclose(val, 0, atol = 1e-5):\n",
       "            index = i+row_start\n",
       "            return index\n",
       "    return False\n",
       "</code></pre>\n",
       "</p>\n",
       "    </details>\n",
       "    "
      ],
      "text/plain": [
       "<IPython.core.display.HTML object>"
      ]
     },
     "metadata": {},
     "output_type": "display_data"
    }
   ],
   "source": [
    "display(utils.tips4)"
   ]
  },
  {
   "cell_type": "code",
   "execution_count": null,
   "id": "4238c8e2-5787-461a-937f-61ab08023788",
   "metadata": {},
   "outputs": [],
   "source": [
    "'''Berikut adalah Test Block. Dimohon untuk tidak melanjutkan pada tahap selanjutnya\n",
    "sampai hasil test menyatakan OK.'''\n",
    "utils.run_tests1(non_zero_column)"
   ]
  },
  {
   "cell_type": "markdown",
   "id": "28e2c751-ad82-4e90-8adf-9ebf699910a5",
   "metadata": {},
   "source": [
    "Mari kita mulai mencoba fungsi di atas"
   ]
  },
  {
   "cell_type": "code",
   "execution_count": null,
   "id": "3809f22e-c7be-4dcc-9d51-57cecc32dea1",
   "metadata": {},
   "outputs": [],
   "source": [
    "M = np.array([[0,4,8,1],[6,-8,6,4],[8,0,5,9]])\n",
    "#Dikarenakan terdapat angka 0 pada M[0,0], kita akan mendeklarasikan\n",
    "#column = 0 dan row_start = 0\n",
    "column = 0\n",
    "row_start = 0\n",
    "print(f'Matriks Awal:\\n{M}')\n",
    "print(f'Indeks Baris Bukan Nol Pertama pada Kolom-{column} ialah {non_zero_column(M,0, row_start)}')"
   ]
  },
  {
   "cell_type": "markdown",
   "id": "1c21cc44-fb86-4403-b048-ebbb49ea8ff1",
   "metadata": {},
   "source": [
    "Dengan menggabungkan fungsi `swap_rows()` dan `non_zero_column()`, kita bisa mengautomatisasi proses perubahan baris pivot"
   ]
  },
  {
   "cell_type": "code",
   "execution_count": null,
   "id": "28a7b3df-5feb-47e5-9171-85757994095d",
   "metadata": {},
   "outputs": [],
   "source": [
    "M = np.array([[0,5,9,0],[6,1,6,4],[8,3,0,9]])\n",
    "num_rows = M.shape[0] #Banyaknya baris dari matriks M\n",
    "\n",
    "print(f'Matriks Awal:\\n{M}\\n')\n",
    "\n",
    "for row in range(num_rows): #Iterasi untuk tiap baris M untuk memastikan nilai pivot\n",
    "    column = row #Pivot berada pada diagonal utama M[n,n]\n",
    "    pivot_candidate = M[row, column] #Mendapatkan nilai dari pivot pada M[n,n]\n",
    "    \n",
    "    if np.isclose(pivot_candidate, 0): #Pastikan bahwa nilai pivot M[n,n] tidak bernilai 0\n",
    "        #Jika nilai pivot M[n,n] bernilai 0...\n",
    "        pivot_index = non_zero_column(M,column,row) #Cari indeks baris terdekat dengan nilai kolom bukan nol\n",
    "        #Lakukan pertukaran baris\n",
    "        M = swap_rows(M, row, pivot_index)\n",
    "        \n",
    "print(f'Matriks Akhir: \\n{M}')"
   ]
  },
  {
   "cell_type": "markdown",
   "id": "8e16ee30-3890-4b2c-b115-ac0ab1ec9897",
   "metadata": {},
   "source": [
    "## Matriks RREF <a id = 'rref'></a>"
   ]
  },
  {
   "cell_type": "markdown",
   "id": "f7f3db7e-9bbd-4ac6-8bf2-8240119ed099",
   "metadata": {},
   "source": [
    "Mari kita mendalami pengertian dari Matriks *Row-Reduced Echelon Form*. Matriks ini merupakan bentuk standar dalam menganalisis solusi persamaan linear. Syarat-syarat matriks RREF adalahs sebagai berikut:\n",
    "\n",
    "1. Jika terdapat baris dengan elemen bukan nol, elemen pertama paling kiri (pivot) dari baris tersebut perlu bernilai 1.\n",
    "2. Elemen pivot perlu menjadi satu-satunya elemen bukan nol pada baris.\n",
    "3. Pivot pada baris di bawah perlu berada pada kolom lebih kanan dari pivot baris atas. \n",
    "      - Contoh jika baris $i$ memiliki pivot pada kolom $j$, baris $i+1$ perlu memiliki pivot pada kolom $k>j$\n",
    "4. Elemen di bawah dan di atas pivot perlu bernilai nol\n",
    "5. Baris dengan semua elemen bernilai nol perlu berada pada paling bawah matriks\n",
    "\n",
    "Singkatnya, proses perubahan matriks menjadi matriks RREF dapat ditunjukkan sebagai berikut:\n",
    "\n",
    "$$\n",
    "\\begin{bmatrix}\n",
    "a & b & c & \\mid & d \\\\\n",
    "e & f & g & \\mid & h \\\\\n",
    "i & j & k & \\mid & l \\\\\n",
    "\\end{bmatrix}\n",
    "\\rightarrow\n",
    "\\begin{bmatrix}\n",
    "1 & 0 & 0 & \\mid & d \\\\\n",
    "0 & 1 & 0 & \\mid & h \\\\\n",
    "0 & 0 & 1 & \\mid & l \\\\\n",
    "\\end{bmatrix}\n",
    "$$"
   ]
  },
  {
   "cell_type": "markdown",
   "id": "acf93cc8-37d0-41af-9e54-274966583df6",
   "metadata": {},
   "source": [
    "Untuk mencapai matriks RREF kita apat melakukan: \n",
    "- **Pertukaran Baris Matriks:** Menyusun baris sehingga nilai konstanta pada diagonal utama tidaklah 0\n",
    "- **Skala Baris Matriks:** Perkalian suatu baris dengan nilai skalar bukan 0\n",
    "- **Perubahan Baris Matriks:**: Mengganti nilai seluruh baris matriks dengan penjumlahan terhadap dirinya sendiri dan baris lainnya. Sebagai contoh:\n",
    "\n",
    "Diberikan matriks $M$. \n",
    "$$\n",
    "\\begin{bmatrix}\n",
    "1 & -3 & 1 & \\mid & 8 \\\\\n",
    "2 & 3 & -1 & \\mid & 1 \\\\\n",
    "3 & -2 & -2 & \\mid & 7 \\\\\n",
    "\\end{bmatrix}\n",
    "$$\n",
    "\n",
    "1. Langkah pertama adalah memastikan bahwa pivot pada baris-0. Dapat kita lihat bahwa M[0,0] telah memenuhi syarat\n",
    "\n",
    "2. Langkah kedua adalah membuat elemen di bawah elemen pivot baris 0 bernilai nol. Hal ini dicapai dengan $M[n,:] - M[n,0]\\times M[0,:]$\n",
    "$$\n",
    "\\begin{bmatrix}\n",
    "1 & -3 & 1 & \\mid & 8 \\\\\n",
    "2-(2*1) & 3-(2*-3) & -1-(2*1) & \\mid & 1-(2*8) \\\\\n",
    "3-(3*1) & -2-(3*-3) & -2-(3*1) & \\mid & 7-(3*8) \\\\\n",
    "\\end{bmatrix}\n",
    "=\\begin{bmatrix}\n",
    "1 & -3 & 1 & \\mid & 8 \\\\\n",
    "0 & 9 & -3 & \\mid & -15 \\\\\n",
    "0 & 7 & -5 & \\mid & -17 \\\\\n",
    "\\end{bmatrix}\n",
    "$$\n",
    "\n",
    "3. Ulangi langkah 1 pada baris-1. Kita lihat bahwa M[1,1] belum memenuhi syarat sehingga kita perlu membagi baris 1 dengan elemen (1,1) $\\frac{M[1,:]}{M[1,1]}$\n",
    "$$\n",
    "\\begin{bmatrix}\n",
    "1 & -3 & 1 & \\mid & 8 \\\\\n",
    "0 & 9/9 & -3/9 & \\mid & -15/9 \\\\\n",
    "0 & 7 & -5 & \\mid & -17 \\\\\n",
    "\\end{bmatrix}\n",
    "= \\begin{bmatrix}\n",
    "1 & -3 & 1 & \\mid & 8 \\\\\n",
    "0 & 1 & -1/3 & \\mid & -5/3 \\\\\n",
    "0 & 7 & -5 & \\mid & -17 \\\\\n",
    "\\end{bmatrix}\n",
    "$$\n",
    "\n",
    "4. Buat elemen di bawah dan di atas pivot baris-1 bernilai 0 seperti langkah 2 $M[n,:] - M[n,1]\\times M[1,:]$\n",
    "$$\n",
    "\\begin{bmatrix}\n",
    "1-(-3*0) & -3-(-3*1) & 1-(-3*-\\frac{1}{3}) & \\mid & 8-(-3*\\frac{-5}{3}) \\\\\n",
    "0 & 1 & -1/3 & \\mid & -5/3 \\\\\n",
    "0-(7*0) & 7-(7*1) & -5-(7*-\\frac{1}{3}) & \\mid & -17-(7*\\frac{-5}{3}) \\\\\n",
    "\\end{bmatrix}\n",
    "= \\begin{bmatrix}\n",
    "1 & 0 & 0 & \\mid & 3 \\\\\n",
    "0 & 1 & -1/3 & \\mid & -5/3 \\\\\n",
    "0 & 0 & -8/3 & \\mid & -16/3 \\\\\n",
    "\\end{bmatrix}\n",
    "$$\n",
    "\n",
    "5. Ulangi langkah 1 pada baris-2. Kita lihat bahwa M[2,2] belum memenuhi syarat sehingga kita perlu membagi baris 12 dengan elemen (2,2) $\\frac{M[2,:]}{M[2,2]}$\n",
    "$$\n",
    "\\begin{bmatrix}\n",
    "1 & 0 & 0 & \\mid & 3 \\\\\n",
    "0 & 1 & -1/3 & \\mid & -5/3 \\\\\n",
    "0 & 0 & \\frac{-8/3}{-8/3} & \\mid & \\frac{-16/3}{-8/3} \\\\\n",
    "\\end{bmatrix}\n",
    "= \\begin{bmatrix}\n",
    "1 & 0 & 0 & \\mid & 3 \\\\\n",
    "0 & 1 & -1/3 & \\mid & -5/3 \\\\\n",
    "0 & 0 & 1 & \\mid & 2 \\\\\n",
    "\\end{bmatrix}\n",
    "$$\n",
    "\n",
    "6. 4. Buat elemen di bawah dan di atas pivot baris 2 bernilai 0 seperti langkah 2 $M[n,:] - M[n,2]\\times M[2,:]$\n",
    "$$\\begin{bmatrix}\n",
    "1-(0*0) & 0-(0*0) & 0-(0*1) & \\mid & 3-(0*2) \\\\\n",
    "0 & 1-(\\frac{-1}{3}*0) & \\frac{-1}{3}-(\\frac{-1}{3}*1) & \\mid & \\frac{-5}{3}-(\\frac{-1}{3}*2) \\\\\n",
    "0 & 0 & 1 & \\mid & 2 \\\\\n",
    "\\end{bmatrix} \n",
    "= \\begin{bmatrix}\n",
    "1 & 0 & 0 & \\mid & 3 \\\\\n",
    "0 & 1 & 0 & \\mid & -1 \\\\\n",
    "0 & 0 & 1 & \\mid & 2 \\\\\n",
    "\\end{bmatrix}\n",
    "$$\n",
    "\n",
    "Dengan demikian kita mendapatkan solusi $({3,-1,2})$. Mari kita automatisasi proses di atas menggunakan program di bawah. Kita turut akan menggunakan fungsi-fungsi yang telah kita buat sebelumnya!"
   ]
  },
  {
   "cell_type": "code",
   "execution_count": 9,
   "id": "45a87c73-7fbc-4688-907b-d7f82ff7ab07",
   "metadata": {},
   "outputs": [],
   "source": [
    "def gaussian_elimination(A,B):\n",
    "    '''\n",
    "    Mencari penyelesaian dari suatu matriks melalui algoritma eliminasi Gaussian\n",
    "\n",
    "    Parameter:\n",
    "    A = Matriks NxN sebagai matriks koefisien\n",
    "    B = Matriks Nx1 sebagai matriks konstanta\n",
    "\n",
    "    Output:\n",
    "    Array Matriks 1xN sebagai solusi Matriks\n",
    "    atau string('Singular Matrix') jika berupa Matriks Singular\n",
    "    '''\n",
    "    ##Matrix Singular ditandai dengan determinan = 0\n",
    "    if np.isclose(np.linalg.det(A), 0) == True:\n",
    "        return 'Singular Matrix'\n",
    "    \n",
    "    ''' Bagian 1 '''\n",
    "    #Tulis Kode Anda di bawah!\n",
    "    A = A.copy(); B = B.copy()\n",
    "    A = A.astype('float64'); B = B.astype('float64')\n",
    "    \n",
    "    #Augmentasi matrix A dan B\n",
    "    M = None\n",
    "    num_rows = M.shape[0]\n",
    "    \n",
    "    for row in range(None):\n",
    "        #Iterasi terhadap tiap baris matriks untuk menentukan pivot\n",
    "        column = row \n",
    "        '''Perhatikan pada deskripsi sebelumnya bahwa nilai pivot selalu berada\n",
    "        pada M[n,n] (row = column)'''\n",
    "        \n",
    "        pivot_candidate = M[None, None]\n",
    "        \n",
    "        #Jika elemen pivot bernilai 0 ...\n",
    "        if np.isclose(pivot_candidate,0):\n",
    "            \n",
    "            #lakukan pencarian index pivot baru jika pivot_candidate = 0\n",
    "            pivot_index = None\n",
    "            \n",
    "            #menukar baris row dengan pivot\n",
    "            M = None\n",
    "            \n",
    "            #Ganti nilai pivot dengan yang telah ditukar\n",
    "            pivot = M[None,None]\n",
    "            \n",
    "        else: #jika pivot_candidate != 0, ambil nilai pivot_candidate sbg nilai pivot\n",
    "            pivot = pivot_candidate\n",
    "        \n",
    "        ''' Bagian 2 '''\n",
    "        #Buat kode program aljabar matriks sebagaimana yang telah dijabarkan sebelumnya\n",
    "        M[None] = M[None]/None\n",
    "        for row2 in range(None):\n",
    "            if None != None:\n",
    "                M[None]=M[None]-M[None,None]*M[None]\n",
    "    \n",
    "    ##Ambil slicing array dari kolom terakhir sebagai solusi\n",
    "    result = M[:,-1]\n",
    "    #Berhenti!\n",
    "    return result"
   ]
  },
  {
   "cell_type": "code",
   "execution_count": 18,
   "id": "98198a44-82f9-47cc-a81f-0972e726b5d3",
   "metadata": {},
   "outputs": [
    {
     "data": {
      "text/html": [
       "\n",
       "    <details>\n",
       "        <summary>Klik Untuk Melihat Tips!</summary>\n",
       "        <p>\n",
       "Pada bagian ini, kalian perlu membuat kode yang mampu mendeteksi bila terdapat nilai 0 pada elemen pivot.\n",
       "Jika terdapat pivot bernilai 0, cari baris dengan elemen bukan nol.\n",
       "Tukar baris tersebut dengan baris yang telah kita cari.\n",
       "\n",
       "Anda bisa melihat bagaimana `swap_rows()` dan `non_zero_column()` digabungkan pada kode sebelumnya.\n",
       "</p>\n",
       "    </details>\n",
       "    "
      ],
      "text/plain": [
       "<IPython.core.display.HTML object>"
      ]
     },
     "metadata": {},
     "output_type": "display_data"
    }
   ],
   "source": [
    "display(utils.tips5)"
   ]
  },
  {
   "cell_type": "code",
   "execution_count": 19,
   "id": "6e5aee2b-4f2d-4716-932d-07100bfdd102",
   "metadata": {},
   "outputs": [
    {
     "data": {
      "text/html": [
       "\n",
       "    <details>\n",
       "        <summary>Klik Untuk Melihat Tips!</summary>\n",
       "        <p>\n",
       "Pada bagian kedua, dilakukan operasi aljabar pada tiap baris sesuai dengan apa yang kita pelajari sebelumnya. \n",
       "Step 1. Bagi baris dengan nilai pivot\n",
       "Step 2. Lakukan operasi aljabar pada baris lainnya dengan beracuan elemen pada kolom yang sama dengan kolom pivot\n",
       "</p>\n",
       "    </details>\n",
       "    "
      ],
      "text/plain": [
       "<IPython.core.display.HTML object>"
      ]
     },
     "metadata": {},
     "output_type": "display_data"
    }
   ],
   "source": [
    "display(utils.tips6)"
   ]
  },
  {
   "cell_type": "code",
   "execution_count": 20,
   "id": "826026f2-6686-4c47-902e-08389ab6d58a",
   "metadata": {},
   "outputs": [
    {
     "data": {
      "text/html": [
       "\n",
       "    <details>\n",
       "        <summary>Klik Untuk Melihat Tips!</summary>\n",
       "        <p>\n",
       "<code><pre>\n",
       "def gaussian_elimination(A,B):\n",
       "\n",
       "    A = A.copy(); B = B.copy()\n",
       "    A = A.astype('float64'); B = B.astype('float64')\n",
       "\n",
       "    M = augmented_matrix(A,B)\n",
       "    num_rows = M.shape[0]\n",
       "    \n",
       "    for row in range(num_rows):\n",
       "        column = row \n",
       "        pivot_candidate = M[row, column]\n",
       "        \n",
       "        if np.isclose(pivot_candidate,0) == True:\n",
       "            pivot_index = non_zero_column(M,column,row)\n",
       "            M = swap_rows(M, row, pivot_index)\n",
       "            pivot = M[row,row]\n",
       "        else: \n",
       "            pivot = pivot_candidate\n",
       "        \n",
       "        M[row] = M[row]/pivot\n",
       "        for row2 in range(num_rows):\n",
       "            if row != row2:\n",
       "                M[row2]=M[row2]-M[row2,row]*M[row]\n",
       "                \n",
       "    result = M[:,-1]            \n",
       "    return result\n",
       "</code></pre>\n",
       "</p>\n",
       "    </details>\n",
       "    "
      ],
      "text/plain": [
       "<IPython.core.display.HTML object>"
      ]
     },
     "metadata": {},
     "output_type": "display_data"
    }
   ],
   "source": [
    "display(utils.tips7)"
   ]
  },
  {
   "cell_type": "markdown",
   "id": "894d98a1-1803-4b3e-8809-a488e192ddc2",
   "metadata": {},
   "source": [
    "Mari kita mencoba metode di atas untuk memecahkan matriks yang sama!"
   ]
  },
  {
   "cell_type": "code",
   "execution_count": null,
   "id": "2e184379-7887-4cc4-a564-8ae2d6559d8d",
   "metadata": {},
   "outputs": [],
   "source": [
    "A = np.array([[1,-3,1], [2,3,-1], [3,-2,-2]])\n",
    "B = np.array([8,1,7]).reshape(-1,1)\n",
    "print(f'Hasil Eliminasi Gaussian dari: \\n{augmented_matrix(A,B)}\\n\\n adalah: {gaussian_elimination(A,B)}')"
   ]
  },
  {
   "cell_type": "code",
   "execution_count": null,
   "id": "b4568584-d663-43bf-ae38-39ec40388d56",
   "metadata": {},
   "outputs": [],
   "source": [
    "'''Berikut adalah Test Block. Dimohon untuk tidak melanjutkan pada tahap selanjutnya\n",
    "sampai hasil test menyatakan OK.'''\n",
    "utils.run_tests2(gaussian_elimination)"
   ]
  },
  {
   "cell_type": "markdown",
   "id": "408e676a-ee7f-41a3-96be-6bf85846c142",
   "metadata": {},
   "source": [
    "Anda telah menyelesaikan course kali ini! Silakan menuju course selanjutnya."
   ]
  }
 ],
 "metadata": {
  "kernelspec": {
   "display_name": "Python (skin)",
   "language": "python",
   "name": "skin"
  },
  "language_info": {
   "codemirror_mode": {
    "name": "ipython",
    "version": 3
   },
   "file_extension": ".py",
   "mimetype": "text/x-python",
   "name": "python",
   "nbconvert_exporter": "python",
   "pygments_lexer": "ipython3",
   "version": "3.10.4"
  }
 },
 "nbformat": 4,
 "nbformat_minor": 5
}
