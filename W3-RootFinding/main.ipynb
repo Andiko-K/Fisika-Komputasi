{
 "cells": [
  {
   "cell_type": "markdown",
   "id": "59ca613a-3278-4040-b678-c95fc3fbbe21",
   "metadata": {},
   "source": [
    "<div style=\"text-align: center;\">\n",
    "    <h1> Metode Pencarian Akar Persamaan </h1>\n",
    "    <img src=\"images/Anima_Bisection.gif\" alt=\"Bisection Method\" width=\"350\"/>\n",
    "    <img src=\"images/Anima_Secant.gif\" alt=\"Secant Method\" width=\"350\"/>\n",
    "</div>"
   ]
  },
  {
   "cell_type": "markdown",
   "id": "83779688-e692-47d2-b3ba-fbee0f23c10e",
   "metadata": {},
   "source": [
    "Untuk mencari akar dari suatu fungsi polinomial $P(x)$, salah satu yang bisa kita lakukan adalah menggunakan <a href=\"https://en.wikipedia.org/wiki/Horner's_method\"> Metode Horner</a> sebagai solusi analitik. Akan tetapi, secara numerik kita bisa menyelesaikan masalah ini dengan berbagai cara. Metode numerik dalam mencari akar persamaan dibagi atas Metode Terbuka dan Metode Tertutup. Kita akan membahas keduanya satu per satu dan membuat contoh program dari masing-masing metode."
   ]
  },
  {
   "cell_type": "markdown",
   "id": "2ad0faee-1840-4c01-bacb-0b3d13aa3c5e",
   "metadata": {},
   "source": [
    "## Import Dependencies"
   ]
  },
  {
   "cell_type": "code",
   "execution_count": 1,
   "id": "8559a613-7238-4d88-9df0-ca8c3ec0327d",
   "metadata": {},
   "outputs": [],
   "source": [
    "import utils"
   ]
  },
  {
   "cell_type": "markdown",
   "id": "364ec7c4-fc6a-467b-9f48-8a98eda65d47",
   "metadata": {},
   "source": [
    "## Metode Tertutup"
   ]
  },
  {
   "cell_type": "markdown",
   "id": "d92a0a3e-268c-4556-adb6-4477f5faed79",
   "metadata": {},
   "source": [
    "Metode Tertutup dikenal sebagai Metode Bracketing di mana kita mencari akar persamaan di antara rentang nilai tertentu.\n",
    "\n",
    "Diberikan sebuah fungsi $f(x)$, kita akan mendefinisikan nilai $x_1$ dan $x_2$ sebagai interval nilai akar yang akan dicari. Sebagai contoh kita akan menggunakan fungsi:\n",
    "\n",
    "$$f(x) = x^3+4x^2-5$$\n",
    "\n",
    "Dengan menggunakan metode tertutup, kita akan mencari akar persamaan di antara rentang nilai 0 sampai -3 \n",
    "\n",
    "<div style=\"text-align: center;\">\n",
    "    <img src=\"images/1.jpg\" alt=\"Bisection01\" width=\"400\"/>\n",
    "</div>\n",
    "\n",
    "Dalam materi kali ini, kita akan mempelajari **Metode Bisection** sebagai salah satu contoh dari metode tertutup."
   ]
  },
  {
   "cell_type": "markdown",
   "id": "777815c7-6cc1-42b0-824d-c11062f09438",
   "metadata": {},
   "source": [
    "<h3>Metode Bisection</h3>\n",
    "\n",
    "Metode Bisection (Metode Bagi Dua) merupakan salah satu metode tertutup yang menggunakan prinsip Teorema Nilai Tengah. Diberikan sebuah fungsi $f(x)$ dan dua titik $x_1$ dan $x_2$, jika $f(x_1)$ dan $f(x_2)$ memiliki tanda yang berlawanan, maka terdapat setidaknya satu akar di antara kedua titik tersebut\n",
    "\n",
    "Dari sana kita bisa menentukan akar persamaan dengan langkah-langkah sebagai berikut:\n",
    "\n",
    "1. Menentukan nilai interval awal $x_1$ dan $x_2$ dengan syarat $f(x_1)\\times f(x_2)$ bernilai negatif\n",
    "2. Menghitung titik tengah $x_t = \\frac{x_1+x_2}{2}$\n",
    "3. Mengecek nilai $f(x_t)$. Jika $f(x_t) \\approx 0$, $x_t$ adalah akar persamaan\n",
    "4. Jika tidak, lakukan perpindahan nilai sebagai berikut:\n",
    "    - Jika $f(x_t)\\times f(x_1)$ bernilai negatif, akar terdapat di antara $x_1$ dan $x_t$\n",
    "    - Pindahkan $x_2$ ke $x_t$\n",
    "    - Jika $f(x_t)\\times f(x_1)$ bernilai positif, akar terdapat di antara $x_2$ dan $x_t$\n",
    "    - Pindahkan $x_1$ ke $x_t$\n",
    "5. Ulangi langkah 2-4 hingga $f(x_t) \\approx 0$\n",
    "\n",
    "Mari kita membuat kode program dari metode di atas!"
   ]
  },
  {
   "cell_type": "code",
   "execution_count": 2,
   "id": "ec28c311-ce4a-4539-bbcf-ffd413e10a1d",
   "metadata": {},
   "outputs": [],
   "source": [
    "def bisection(f,x1,x2,e = 1e-3): \n",
    "    '''\n",
    "    Menentukan akar persamaan f(x) menggunakan metode bisection\n",
    "    Input\n",
    "        f -> fungsi yang akan dicari nilai akarnya (type: func)\n",
    "        x1 -> batas kiri (type: float)\n",
    "        x2 -> batas kanan (type: float)\n",
    "        e -> nilai batas/threshold (iterasi dihentikan ketika |f(x)| <= e\n",
    "    Output\n",
    "        xt (nilai akar yang berada di antara x1 dan x2)\n",
    "    '''\n",
    "    #Tulis Kode Anda Di bawah\n",
    "    ##Cek apakah terdapat akar di antara x1 dan x2\n",
    "    if f(x1) * f(x2) > 0:\n",
    "        return False\n",
    "    \n",
    "    xt = (x1+x2)/2   \n",
    "    while abs(f(xt)) > e:\n",
    "        if f(xt)*f(x2) <= 0:\n",
    "            x1 = xt\n",
    "        else:\n",
    "            x2 = xt\n",
    "        xt = (x1+x2)/2\n",
    "    #Berhenti\n",
    "    return xt"
   ]
  },
  {
   "cell_type": "markdown",
   "id": "75c05c3d-b8d7-4dbe-8ed3-e1b392205a34",
   "metadata": {},
   "source": [
    "Mari kita coba lihat hasil dari metode Bisection di atas"
   ]
  },
  {
   "cell_type": "code",
   "execution_count": 3,
   "id": "66eb0ec9-3a56-4343-a91f-84307b8a3fc2",
   "metadata": {},
   "outputs": [],
   "source": [
    "#Inisialisasi fungsi persamaan\n",
    "def f(x):\n",
    "    y = x**3+4*x**2-5\n",
    "    return y\n",
    "\n",
    "#Inisialisasi nilai batas\n",
    "x1 = -3; x2 = 0\n",
    "\n",
    "#Masukkan variabel pada fungsi bisection\n",
    "x = bisection(f, x1, x2)"
   ]
  },
  {
   "cell_type": "code",
   "execution_count": 4,
   "id": "61d935d6-0f30-46af-8abf-e91f76b4c364",
   "metadata": {},
   "outputs": [
    {
     "data": {
      "image/png": "[encoded data removed]",
      "text/plain": [
       "<Figure size 500x300 with 1 Axes>"
      ]
     },
     "metadata": {},
     "output_type": "display_data"
    }
   ],
   "source": [
    "#Plot Hasil\n",
    "utils.graph(f, x)"
   ]
  },
  {
   "cell_type": "code",
   "execution_count": 5,
   "id": "a6d1cf1e-d87c-4de4-a7ef-f64251658e9c",
   "metadata": {},
   "outputs": [
    {
     "name": "stderr",
     "output_type": "stream",
     "text": [
      "....\n",
      "----------------------------------------------------------------------\n",
      "Ran 4 tests in 0.005s\n",
      "\n",
      "OK\n"
     ]
    }
   ],
   "source": [
    "utils.run_tests1(bisection)"
   ]
  },
  {
   "cell_type": "markdown",
   "id": "05782d18-6cfe-4485-8cf5-a496028b7dad",
   "metadata": {},
   "source": [
    "## Metode Terbuka"
   ]
  },
  {
   "cell_type": "code",
   "execution_count": null,
   "id": "dc3ea242-586b-4518-94a0-40b382bb5f03",
   "metadata": {},
   "outputs": [],
   "source": []
  }
 ],
 "metadata": {
  "kernelspec": {
   "display_name": "Python (skin)",
   "language": "python",
   "name": "skin"
  },
  "language_info": {
   "codemirror_mode": {
    "name": "ipython",
    "version": 3
   },
   "file_extension": ".py",
   "mimetype": "text/x-python",
   "name": "python",
   "nbconvert_exporter": "python",
   "pygments_lexer": "ipython3",
   "version": "3.10.4"
  }
 },
 "nbformat": 4,
 "nbformat_minor": 5
}
