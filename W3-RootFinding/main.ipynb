{
 "cells": [
  {
   "cell_type": "markdown",
   "id": "59ca613a-3278-4040-b678-c95fc3fbbe21",
   "metadata": {},
   "source": [
    "<div style=\"text-align: center;\">\n",
    "    <h1> Metode Pencarian Akar Persamaan </h1>\n",
    "    <img src=\"Anima_Bisection.gif\" alt=\"Bisection Method\" width=\"350\"/>\n",
    "    <img src=\"Anima_Secant.gif\" alt=\"Secant Method\" width=\"350\"/>\n",
    "</div>"
   ]
  },
  {
   "cell_type": "code",
   "execution_count": null,
   "id": "4efacdb1-d486-4d68-9e8c-06d385dc3f16",
   "metadata": {},
   "outputs": [],
   "source": []
  }
 ],
 "metadata": {
  "kernelspec": {
   "display_name": "Python (skin)",
   "language": "python",
   "name": "skin"
  },
  "language_info": {
   "codemirror_mode": {
    "name": "ipython",
    "version": 3
   },
   "file_extension": ".py",
   "mimetype": "text/x-python",
   "name": "python",
   "nbconvert_exporter": "python",
   "pygments_lexer": "ipython3",
   "version": "3.10.4"
  }
 },
 "nbformat": 4,
 "nbformat_minor": 5
}
