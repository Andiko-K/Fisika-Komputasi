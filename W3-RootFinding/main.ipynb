{
 "cells": [
  {
   "cell_type": "markdown",
   "id": "59ca613a-3278-4040-b678-c95fc3fbbe21",
   "metadata": {},
   "source": [
    "<div style=\"text-align: center;\">\n",
    "    <h1> Metode Pencarian Akar Persamaan </h1>\n",
    "    <img src=\"images/Anima_Bisection.gif\" alt=\"Bisection Method\" width=\"350\"/>\n",
    "    <img src=\"images/Anima_Secant.gif\" alt=\"Secant Method\" width=\"350\"/>\n",
    "</div>"
   ]
  },
  {
   "cell_type": "markdown",
   "id": "83779688-e692-47d2-b3ba-fbee0f23c10e",
   "metadata": {},
   "source": [
    "Untuk mencari akar dari suatu fungsi polinomial $P(x)$, salah satu yang bisa kita lakukan adalah menggunakan <a href=\"https://en.wikipedia.org/wiki/Horner's_method\"> Metode Horner</a> sebagai solusi analitik. Akan tetapi, secara numerik kita bisa menyelesaikan masalah ini dengan berbagai cara. Metode numerik dalam mencari akar persamaan dibagi atas Metode Terbuka dan Metode Tertutup. Kita akan membahas keduanya satu per satu dan membuat contoh program dari masing-masing metode."
   ]
  },
  {
   "cell_type": "markdown",
   "id": "2ad0faee-1840-4c01-bacb-0b3d13aa3c5e",
   "metadata": {},
   "source": [
    "## Import Dependencies"
   ]
  },
  {
   "cell_type": "code",
   "execution_count": 1,
   "id": "8559a613-7238-4d88-9df0-ca8c3ec0327d",
   "metadata": {},
   "outputs": [],
   "source": [
    "import utils"
   ]
  },
  {
   "cell_type": "markdown",
   "id": "364ec7c4-fc6a-467b-9f48-8a98eda65d47",
   "metadata": {},
   "source": [
    "## Metode Tertutup"
   ]
  },
  {
   "cell_type": "markdown",
   "id": "d92a0a3e-268c-4556-adb6-4477f5faed79",
   "metadata": {},
   "source": [
    "Metode Tertutup dikenal sebagai Metode Bracketing di mana kita mencari akar persamaan di antara rentang nilai tertentu.\n",
    "\n",
    "Diberikan sebuah fungsi $f(x)$, kita akan mendefinisikan nilai $x_1$ dan $x_2$ sebagai interval nilai akar yang akan dicari. Sebagai contoh kita akan menggunakan fungsi:\n",
    "\n",
    "$$f(x) = x^3+4x^2-5$$\n",
    "\n",
    "Dengan menggunakan metode tertutup, kita akan mencari akar persamaan di antara rentang nilai 0 sampai -3 \n",
    "\n",
    "<div style=\"text-align: center;\">\n",
    "    <img src=\"images/1.jpg\" alt=\"Bisection01\" width=\"500\"/>\n",
    "</div>\n",
    "\n",
    "Dalam materi kali ini, kita akan mempelajari **Metode Bisection** sebagai salah satu contoh dari metode tertutup."
   ]
  },
  {
   "cell_type": "markdown",
   "id": "777815c7-6cc1-42b0-824d-c11062f09438",
   "metadata": {},
   "source": [
    "<h3>Metode Bisection</h3>\n",
    "\n",
    "Metode Bisection (Metode Bagi Dua) merupakan salah satu metode tertutup yang menggunakan prinsip Teorema Nilai Tengah. Diberikan sebuah fungsi $f(x)$ dan dua titik $x_1$ dan $x_2$, jika $f(x_1)$ dan $f(x_2)$ memiliki tanda yang berlawanan, maka terdapat setidaknya satu akar di antara kedua titik tersebut\n",
    "\n",
    "Dari sana kita bisa menentukan akar persamaan dengan langkah-langkah sebagai berikut:\n",
    "\n",
    "1. Menentukan nilai interval awal $x_1$ dan $x_2$ dengan syarat $f(x_1)\\times f(x_2)$ bernilai negatif\n",
    "2. Menghitung titik tengah $x_t = \\frac{x_1+x_2}{2}$\n",
    "3. Mengecek nilai $f(x_t)$. Jika $f(x_t) \\approx 0$, $x_t$ adalah akar persamaan\n",
    "4. Jika tidak, lakukan perpindahan nilai sebagai berikut:\n",
    "    - Jika $f(x_t)\\times f(x_1)$ bernilai negatif, akar terdapat di antara $x_1$ dan $x_t$\n",
    "    - Pindahkan $x_2$ ke $x_t$\n",
    "    - Jika $f(x_t)\\times f(x_1)$ bernilai positif, akar terdapat di antara $x_2$ dan $x_t$\n",
    "    - Pindahkan $x_1$ ke $x_t$\n",
    "5. Ulangi langkah 2-4 hingga $f(x_t) \\approx 0$\n",
    "\n",
    "Mari kita membuat kode program dari metode di atas!"
   ]
  },
  {
   "cell_type": "code",
   "execution_count": 2,
   "id": "ec28c311-ce4a-4539-bbcf-ffd413e10a1d",
   "metadata": {},
   "outputs": [],
   "source": [
    "def bisection(f,x1,x2,e = 1e-3): \n",
    "    '''\n",
    "    Menentukan akar persamaan f(x) menggunakan metode bisection\n",
    "    Input\n",
    "        f -> fungsi yang akan dicari nilai akarnya (type: func)\n",
    "        x1 -> batas kiri (type: float)\n",
    "        x2 -> batas kanan (type: float)\n",
    "        e -> nilai batas/threshold (iterasi dihentikan ketika |f(x)| <= e\n",
    "    Output\n",
    "        xt (nilai akar yang berada di antara x1 dan x2)\n",
    "    '''\n",
    "    #Tulis Kode Anda Di bawah\n",
    "    \n",
    "    if None:   \n",
    "        ## Cek apakah terdapat akar di antara x1 dan x2. \n",
    "        ## Jika tidak ada, fungsi mengembalikan False\n",
    "        return False\n",
    "    \n",
    "    xt = None\n",
    "    while None:\n",
    "        #Selama f(xt) TIDAK mendekati 0...\n",
    "        None\n",
    "    #Berhenti\n",
    "    return xt"
   ]
  },
  {
   "cell_type": "code",
   "execution_count": null,
   "id": "2f2187d1-1e26-49c7-89e6-cdcbc3ec9aea",
   "metadata": {},
   "outputs": [],
   "source": [
    "display(utils.tips1)"
   ]
  },
  {
   "cell_type": "code",
   "execution_count": null,
   "id": "fb17fa28-6b8b-41f8-b908-70eaf2b12305",
   "metadata": {},
   "outputs": [],
   "source": [
    "display(utils.tips2)"
   ]
  },
  {
   "cell_type": "code",
   "execution_count": null,
   "id": "91396453-6303-4ea2-a0b0-09e580dc0d64",
   "metadata": {},
   "outputs": [],
   "source": [
    "display(utils.tips3)"
   ]
  },
  {
   "cell_type": "markdown",
   "id": "75c05c3d-b8d7-4dbe-8ed3-e1b392205a34",
   "metadata": {},
   "source": [
    "Mari kita coba lihat hasil dari metode Bisection di atas"
   ]
  },
  {
   "cell_type": "code",
   "execution_count": null,
   "id": "571eb99e-ac0e-444e-81d7-7d44d76c8e48",
   "metadata": {},
   "outputs": [],
   "source": [
    "#Run test berikut untuk mengetahui apakah fungsi Anda telah berfungsi\n",
    "utils.run_tests1(bisection)"
   ]
  },
  {
   "cell_type": "code",
   "execution_count": 3,
   "id": "66eb0ec9-3a56-4343-a91f-84307b8a3fc2",
   "metadata": {},
   "outputs": [],
   "source": [
    "#Inisialisasi fungsi persamaan\n",
    "def f(x):\n",
    "    y = x**3+4*x**2-5\n",
    "    return y\n",
    "\n",
    "#Inisialisasi nilai batas\n",
    "x1 = -3; x2 = 0\n",
    "\n",
    "#Masukkan variabel pada fungsi bisection\n",
    "x = bisection(f, x1, x2)"
   ]
  },
  {
   "cell_type": "code",
   "execution_count": null,
   "id": "317a0fc9-9516-47cd-b1de-06cfe496a34f",
   "metadata": {},
   "outputs": [],
   "source": [
    "#Plot Hasil\n",
    "utils.graph(f, x)"
   ]
  },
  {
   "cell_type": "markdown",
   "id": "05782d18-6cfe-4485-8cf5-a496028b7dad",
   "metadata": {},
   "source": [
    "## Metode Terbuka"
   ]
  },
  {
   "cell_type": "markdown",
   "id": "5f566e08-41cf-4c6d-b154-b3a20ea8af07",
   "metadata": {},
   "source": [
    "Berbeda dengan Metode Tertutup, dalam Metode Terbuka kita hanya perlu memberikan satu atau dua nilai tebakan awal yang tidak memerlukan rentang nilai. Lihat contoh di bawah dengan menggunakan persamaan $f(x)$ yang sama.\n",
    "\n",
    "<div style=\"text-align: center;\">\n",
    "    <img src=\"images/Anima_Secant.gif\" alt=\"Secant Method\" width=\"500\"/>\n",
    "</div>\n",
    "\n",
    "Metode Secant merupakan salah satu jenis metode terbuka yang memanfaatkan nilai gradien dari fungsi. Pada *gif* di atas, kita mendeklarasikan nilai tebakan awal pada $x_1 = 2.9$ dan $x_2 = 3$. Kemudian, secara otomatis, Metode Secant akan mencari nilai akar terdekat dari kedua posisi tersebut"
   ]
  },
  {
   "cell_type": "markdown",
   "id": "aea326a8-5dfd-4bbd-bddc-4b01233a87b3",
   "metadata": {},
   "source": [
    "<h3>Metode Secant </h3>\n",
    "\n",
    "Perhatikan gambar di bawah\n",
    "<div style=\"text-align: center;\">\n",
    "    <img src=\"images/2.jpg\" alt=\"Secant1\" width=\"500\"/>\n",
    "</div>\n",
    "\n",
    "Jika kita menarik garis dari titik ($x_1, f(x_1)$) dimana $x_1 = 10$ dan ($x_2, f(x_2)$) dimana $x_2 = 5$, kita mendapatkan titik $(x_t, 0)$. Perhatikan bahwa titik $x_t$ menjadi lebih dekat dengan akar persamaan $f(x)$. Bagaimana hal ini tercapai? Perhatikan penurunan dari persamaan Metode Secant sebagai berikut:\n",
    "\n",
    "Berdasarkan hukum kesebangunan, kita dapat melihat bahwa kemiringan di antara ($x_1-x_t$) dan ($x_2-x_1$) bernilai sama\n",
    "$$m = \\frac{f(x_2)-0}{x_2-x_t} = \\frac{f(x_1)-f(x_2)}{x_1-x_2}$$\n",
    "\n",
    "Sehingga didapatkan\n",
    "\n",
    "$$x_t = x_2 - f(x_2)\\frac{x_1-x_2}{f(x_1)-f(x_2)}$$\n",
    "\n",
    "Dengan demikian, langkah-langkah dari Metode Secant dapat diringkas sebagai berikut:\n",
    "\n",
    "1. Tentukan dua titik awal\n",
    "2. Cari titik $x_t$ menggunakan rumus di atas\n",
    "3. Jika $f(x_t) \\approx 0$, $x_t$ adalah akar persamaan\n",
    "4. Jika tidak, pindahkan nilai $x_2$ menjadi $x_t$ dan $x_1$ menjadi $x_2$\n",
    "5. Ulangi langkah 2-4 hingga $f(x_t) \\approx 0$"
   ]
  },
  {
   "cell_type": "code",
   "execution_count": 6,
   "id": "30b9e06b-0120-4e8e-80ba-b06c897f45fb",
   "metadata": {},
   "outputs": [],
   "source": [
    "def secant(f,x1,x2,e = 1e-3): \n",
    "    '''\n",
    "    Menentukan akar persamaan f(x) menggunakan metode bisection\n",
    "    Input\n",
    "        f -> fungsi yang akan dicari nilai akarnya (type: func)\n",
    "        x1 -> nilai awal 1 (type: float)\n",
    "        x2 -> nilai awal 2 (type: float)\n",
    "        e -> nilai batas/threshold (iterasi dihentikan ketika |f(x)| <= e\n",
    "    Output\n",
    "        xt (nilai akar yang berada di antara x1 dan x2)\n",
    "    '''\n",
    "    #Tulis Kode Anda Di bawah\n",
    "    while None:\n",
    "        #Selama f(xt) TIDAK mendekati 0...\n",
    "        None\n",
    "    #Berhenti\n",
    "    return x2"
   ]
  },
  {
   "cell_type": "code",
   "execution_count": null,
   "id": "e1e2025b-bd07-411f-be06-4fd5981cae88",
   "metadata": {},
   "outputs": [],
   "source": [
    "display(utils.tips4)"
   ]
  },
  {
   "cell_type": "code",
   "execution_count": null,
   "id": "e321af6f-a447-402b-a7bc-7e31d33282e7",
   "metadata": {},
   "outputs": [],
   "source": [
    "display(utils.tips5)"
   ]
  },
  {
   "cell_type": "markdown",
   "id": "8a348f6b-1207-4b69-8a61-996f54c51b3d",
   "metadata": {},
   "source": [
    "Mari kita coba lihat hasil dari metode Secant di atas"
   ]
  },
  {
   "cell_type": "code",
   "execution_count": null,
   "id": "5b0bb07c-5dd3-427d-bec5-67b2c22cca77",
   "metadata": {},
   "outputs": [],
   "source": [
    "#Run test berikut untuk mengetahui apakah fungsi Anda telah berfungsi\n",
    "utils.run_tests2(secant)"
   ]
  },
  {
   "cell_type": "code",
   "execution_count": 7,
   "id": "c5773ba6-33c4-4541-888b-cea6b62a1742",
   "metadata": {},
   "outputs": [],
   "source": [
    "#Inisialisasi fungsi persamaan\n",
    "def f(x):\n",
    "    y = x**3+4*x**2-5\n",
    "    return y\n",
    "\n",
    "#Inisialisasi nilai batas\n",
    "x1 = 3; x2 = 2.9\n",
    "\n",
    "#Masukkan variabel pada fungsi bisection\n",
    "x = secant(f, x1, x2)"
   ]
  },
  {
   "cell_type": "code",
   "execution_count": null,
   "id": "80eafae1-64fc-41f5-baf4-1f25698244c9",
   "metadata": {},
   "outputs": [],
   "source": [
    "utils.graph(f, x)"
   ]
  },
  {
   "cell_type": "markdown",
   "id": "f39ce419-e792-4f88-ab32-5d04cb17f001",
   "metadata": {},
   "source": [
    "Sebelum melanjutkan pada tahap berikutnya, tahukah Anda bahwa kedua metode ini memiliki kekurangan masing-masing? Sebagai latihan dapatkah Anda membandingkan kekurangan dari masing-masing metode?"
   ]
  },
  {
   "cell_type": "code",
   "execution_count": null,
   "id": "e4a40c0f-7001-4be7-9f78-e216c2c58de4",
   "metadata": {},
   "outputs": [],
   "source": []
  }
 ],
 "metadata": {
  "kernelspec": {
   "display_name": "Python (skin)",
   "language": "python",
   "name": "skin"
  },
  "language_info": {
   "codemirror_mode": {
    "name": "ipython",
    "version": 3
   },
   "file_extension": ".py",
   "mimetype": "text/x-python",
   "name": "python",
   "nbconvert_exporter": "python",
   "pygments_lexer": "ipython3",
   "version": "3.10.4"
  }
 },
 "nbformat": 4,
 "nbformat_minor": 5
}
