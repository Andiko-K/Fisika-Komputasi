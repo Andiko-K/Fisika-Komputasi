{
 "cells": [
  {
   "cell_type": "markdown",
   "id": "2e72d672-d4fc-40f9-bd88-2d482e65aa30",
   "metadata": {
    "tags": []
   },
   "source": [
    "# W1 - Taylor Series"
   ]
  },
  {
   "cell_type": "code",
   "execution_count": 26,
   "id": "c3f04778-006c-4441-af4e-8073bfabb832",
   "metadata": {},
   "outputs": [
    {
     "name": "stdout",
     "output_type": "stream",
     "text": [
      "/bin/bash: -c: line 0: syntax error near unexpected token `('\n",
      "/bin/bash: -c: line 0: `[Taylor Expansion]('Animation.gif')'\n"
     ]
    }
   ],
   "source": [
    "<div style=\"text-align: center;\">\n",
    "    <img src=\"Sin.png\" alt=\"Example Image\" width=\"500\"/>\n",
    "</div>"
   ]
  },
  {
   "cell_type": "markdown",
   "id": "762bf30a-b2a4-4703-ba71-78e2f8cb6317",
   "metadata": {
    "tags": []
   },
   "source": [
    "Ekspansi Deret Taylor merupakan metode yang sangatlah kuat dalam merepresentasikan suatu fungsi matematis sebagai penjumlahan suku-suku polinomial dari turunannya. Dengan metode ini, kita bisa mendapatkan aproksimasi nilai sesungguhnya melalui perhitungan yang lebih mudah.\n",
    "\n",
    "Ekspansi Deret Taylor dari suatu fungsi $f(x)$ dinyatakan sebagai:\n",
    "\n",
    "$$f(x) = f(a) + \\frac{f'(a)}{1!}(x-a) + \\frac{f''(a)}{2!}(x-a)^2 + ... + \\frac{f^{n-1}(a)}{(n-1)!}(x-a)^{n-1} $$\n",
    "\n",
    "Hal ini dapat disederhanakan sebagai:\n",
    "$$f(x) = \\sum^{\\infty}_{n=0} \\frac{(x-a)^n}{n!}f^{(n)}(a)$$\n",
    "\n",
    "Dengan $f^{n}$ menyatakan turunan dari fungsi $f$ ke-$n$\n",
    "\n",
    "Nilai $a$ sendiri merupakan *reference point* yang umumnya ditetapkan pada nilai 0. Ekspansi ini dinamakan sebagai **Deret Maclaurin**\n",
    "\n",
    "$$f(x) = f(0) + \\frac{f'(0)}{1!}(x) + \\frac{f''(0)}{2!}(x)^2 + ... + \\frac{f^{n-1}(0)}{(n-1)!}(x)^{n-1} $$"
   ]
  },
  {
   "cell_type": "markdown",
   "id": "bd32836e-61ec-43e4-99fe-981519dc0220",
   "metadata": {
    "tags": []
   },
   "source": [
    "## Tujuan"
   ]
  },
  {
   "cell_type": "markdown",
   "id": "be540ff2-b33c-4015-8c75-ae03dbeec579",
   "metadata": {},
   "source": [
    "Dalam praktikum kali ini, kita akan mengimplementasikan prinsip dari Deret Maclaurin dalam menyelesaikan fungsi sinus dan cosinus melalui persamaan numerik"
   ]
  },
  {
   "cell_type": "markdown",
   "id": "5369d7e1-d6e0-45d9-84ff-92780339bbb8",
   "metadata": {},
   "source": [
    "## Penurunan Persamaan"
   ]
  },
  {
   "cell_type": "markdown",
   "id": "51af47b6-d819-4a34-907f-d2d54346d2b2",
   "metadata": {},
   "source": [
    "Ekspansi Deret Maclaurin dari fungsi sinus $f(x) = \\sin(x)$ menghasilkan:\n",
    "\n",
    "$$x-\\frac{x^3}{3!}+\\frac{x^5}{5!} - ... = \\sum^{\\infty}_{n=0} (-1)^n\\frac{x^{2n+1}}{(2n+1)!}$$\n",
    "\n",
    "Sementara itu ekspansi Deret Maclaurin dari fungsi cosinus $f(x) = \\cos(x)$ menghasilkan\n",
    "\n",
    "$$1-\\frac{x^2}{1!}+\\frac{x^4}{4!} - ... = \\sum^{\\infty}_{n=0} (-1)^n\\frac{x^{2n}}{(2n)!}$$\n",
    "\n",
    "Bagaimana? Sebagai latihan, turunkan kedua persamaan di atas dengan memasukkan fungsi pada Ekspansi Deret Maclaurin secara pribadi!"
   ]
  },
  {
   "cell_type": "markdown",
   "id": "7e0c33eb-a543-41af-8923-7dbf254981bc",
   "metadata": {},
   "source": [
    "## Program"
   ]
  },
  {
   "cell_type": "markdown",
   "id": "8fa06410-8f37-4b2b-a4de-13e3c08842b0",
   "metadata": {},
   "source": [
    "Kita dapat mengimplementasikan persamaan di atas melalui solusi numerik dengan fungsi di bawah! Anda dapat menggunakan iterasi `for` atau `while` untuk mendapatkan aproksimasi nilai sesungguhnya.\n",
    "\n",
    "Tulis kode program Anda pada tempat yang telah diberikan. Pastikan untuk tidak mengubah kode di luar tempat yang disediakan"
   ]
  },
  {
   "cell_type": "code",
   "execution_count": 1,
   "id": "fdf82e70-0eea-4584-adbd-86204c2654b9",
   "metadata": {},
   "outputs": [],
   "source": [
    "#Import dependencies\n",
    "import utils\n",
    "from IPython.display import display"
   ]
  },
  {
   "cell_type": "markdown",
   "id": "d9da1634-f3e7-40a5-b829-d41b48c54b4d",
   "metadata": {
    "tags": []
   },
   "source": [
    "### Fungsi Factorial"
   ]
  },
  {
   "cell_type": "code",
   "execution_count": 2,
   "id": "10b32b14-ff92-4d82-a242-98d9d9483b77",
   "metadata": {},
   "outputs": [],
   "source": [
    "def factorial(x):\n",
    "    '''\n",
    "    Fungsi guna mendapatkan nilai faktorial dari suatu bilangan x\n",
    "    input:\n",
    "        x: bilangan yang akan dicari nilai faktorialnya\n",
    "    output:\n",
    "        output: nilai faktorial dari x (x!)\n",
    "    '''\n",
    "    #Tulis Kode Anda\n",
    "    output = None\n",
    "    for n in range(None):\n",
    "        output *= None\n",
    "    \n",
    "    #Berhenti    \n",
    "    return output"
   ]
  },
  {
   "cell_type": "code",
   "execution_count": 3,
   "id": "bde3eb83-e67e-4056-a302-f0a65920980d",
   "metadata": {},
   "outputs": [
    {
     "data": {
      "text/html": [
       "\n",
       "    <details>\n",
       "        <summary>Klik Untuk Melihat Tips!</summary>\n",
       "        <p>\n",
       "Gunakan Iterasi While Loop, For Loop, atau Rekursif untuk mendapatkan nilai faktorial!\n",
       "\n",
       "Perlu diingat bahwa perulangan dimulai dari angka 0 dan berhenti ketika mencapai angka n!\n",
       "</p>\n",
       "    </details>\n",
       "    "
      ],
      "text/plain": [
       "<IPython.core.display.HTML object>"
      ]
     },
     "metadata": {},
     "output_type": "display_data"
    },
    {
     "data": {
      "text/html": [
       "\n",
       "    <details>\n",
       "        <summary>Klik Untuk Melihat Tips!</summary>\n",
       "        <p>\n",
       "Contoh Jawaban: \n",
       "\n",
       "<pre><code>\n",
       "def factorial(x):\n",
       "    value = 1\n",
       "    for n in range(x):\n",
       "        value *= (n+1)\n",
       "    return value\n",
       "</code></pre>\n",
       "</p>\n",
       "    </details>\n",
       "    "
      ],
      "text/plain": [
       "<IPython.core.display.HTML object>"
      ]
     },
     "metadata": {},
     "output_type": "display_data"
    }
   ],
   "source": [
    "display(utils.f1)\n",
    "display(utils.f2)"
   ]
  },
  {
   "cell_type": "code",
   "execution_count": 4,
   "id": "7d285d81-df5f-469d-a8bf-43d152b84e8a",
   "metadata": {},
   "outputs": [
    {
     "name": "stdout",
     "output_type": "stream",
     "text": [
      "Kode Anda Sudah Benar! Lanjutkan pada Tahap Selanjutnya!\n"
     ]
    }
   ],
   "source": [
    "## Test Fungsi -- JANGAN DIUBAH!\n",
    "utils.test_1(factorial)"
   ]
  },
  {
   "cell_type": "markdown",
   "id": "f297c82e-b342-4283-b7d6-1ed6e056bf48",
   "metadata": {},
   "source": [
    "### Fungsi sin(x)"
   ]
  },
  {
   "cell_type": "code",
   "execution_count": 5,
   "id": "c9fd78ee-5d57-435d-aff4-1c4183ad03d3",
   "metadata": {},
   "outputs": [],
   "source": [
    "iteration = 10 #Tulis berapa banyak iterasi yang Anda butuhkan. Umumnya diperlukan iterasi pada rentang 10\n",
    "def sin(x, iteration):\n",
    "    '''\n",
    "    Nilai numerik dari sin(x) melalui ekspansi Deret Maclaurin\n",
    "    input:\n",
    "        x -> nilai yang akan dimasukkan\n",
    "        iteration -> jumlah iterasi \"n\"\n",
    "    output:\n",
    "        value -> sin(x)\n",
    "    '''\n",
    "    #Tulis Kode Anda\n",
    "    value = None\n",
    "    for None in range(None):\n",
    "        #Gunakan fungsi factorial yang telah Anda buat sebelumnya\n",
    "        value += None\n",
    "     #Berhenti!\n",
    "    return value"
   ]
  },
  {
   "cell_type": "code",
   "execution_count": 6,
   "id": "20c504f7-f40f-4b8d-94e3-f99edfab905a",
   "metadata": {},
   "outputs": [
    {
     "data": {
      "text/html": [
       "\n",
       "    <details>\n",
       "        <summary>Klik Untuk Melihat Tips!</summary>\n",
       "        <p>\n",
       "Untuk tiap perulangan, variabel value perlu ditambahkan dengan aproksimasi Deret Maclauren untuk sin(x).</p>\n",
       "    </details>\n",
       "    "
      ],
      "text/plain": [
       "<IPython.core.display.HTML object>"
      ]
     },
     "metadata": {},
     "output_type": "display_data"
    }
   ],
   "source": [
    "display(utils.s1)"
   ]
  },
  {
   "cell_type": "code",
   "execution_count": null,
   "id": "fee6d720-cf35-4b8d-94e9-a45bed9b5da3",
   "metadata": {},
   "outputs": [],
   "source": [
    "#Perhatikan grafik yang dihasilkan dari program di bawah\n",
    "#Perhatikan nilai loss dan bentuk grafik yang diberikan\n",
    "#Jika perbedaan dari grafik nilai analitik dan nilai numerik dirasa cukup dekat silakan lanjut pada tahap selanjutnya.\n",
    "#Jika nilai numerik masih jauh dengan analitik, Anda dapat mengubah nilai iteration atau perbaiki program Anda\n",
    "utils.visualize(sin, 'sin', iteration = 10)"
   ]
  },
  {
   "cell_type": "markdown",
   "id": "8a8f20e7-d48d-409a-82d9-9290c893f9e2",
   "metadata": {},
   "source": [
    "### Fungsi cos(x)"
   ]
  },
  {
   "cell_type": "code",
   "execution_count": 8,
   "id": "4d084381-2bc7-419a-9047-5477abd62ffb",
   "metadata": {},
   "outputs": [],
   "source": [
    "iteration = 10 #Tulis berapa banyak iterasi yang Anda butuhkan. Umumnya diperlukan iterasi pada rentang 10\n",
    "def cos(x, iteration):\n",
    "    '''\n",
    "    Nilai numerik dari cos(x) melalui ekspansi Deret Maclaurin\n",
    "    input:\n",
    "        x -> nilai yang akan dimasukkan\n",
    "        iteration -> jumlah iterasi \"n\"\n",
    "    output:\n",
    "        output -> cos(x)\n",
    "    '''\n",
    "    #Tulis Kode Anda\n",
    "    value = None\n",
    "    for None in range(None):\n",
    "        #Gunakan fungsi factorial yang telah Anda buat sebelumnya\n",
    "        value += None\n",
    "     #Berhenti!\n",
    "    return value"
   ]
  },
  {
   "cell_type": "code",
   "execution_count": 9,
   "id": "5d9e1279-d1d7-46fa-8aec-33ae27adb00b",
   "metadata": {},
   "outputs": [
    {
     "data": {
      "text/html": [
       "\n",
       "    <details>\n",
       "        <summary>Klik Untuk Melihat Tips!</summary>\n",
       "        <p>\n",
       "Sama seperti fungsi sin(x), variabel value perlu ditambahkan dengan aproksimasi Deret Maclauren untuk cos(x).</p>\n",
       "    </details>\n",
       "    "
      ],
      "text/plain": [
       "<IPython.core.display.HTML object>"
      ]
     },
     "metadata": {},
     "output_type": "display_data"
    }
   ],
   "source": [
    "display(utils.c1)"
   ]
  },
  {
   "cell_type": "code",
   "execution_count": null,
   "id": "05f963e1-7584-4edb-b42c-5ed6613a1f71",
   "metadata": {},
   "outputs": [],
   "source": [
    "#Perhatikan grafik yang dihasilkan dari program di bawah\n",
    "#Perhatikan nilai loss dan bentuk grafik yang diberikan\n",
    "#Jika perbedaan dari grafik nilai analitik dan nilai numerik dirasa cukup dekat silakan lanjut pada tahap selanjutnya.\n",
    "#Jika nilai numerik masih jauh dengan analitik, Anda dapat mengubah nilai iteration atau perbaiki program Anda\n",
    "utils.visualize(cos, 'cos', iteration = 10)"
   ]
  },
  {
   "cell_type": "markdown",
   "id": "6e0f6744-41a9-43aa-a4ff-97f7d83fa13c",
   "metadata": {},
   "source": [
    "Selamat! Anda telah menyelesaikan course minggu ini. Anda dapat beranjak menuju course selanjutnya atau melihat subbab berikutnya yang bersifat opsional. Kita akan membahas nilai loss yang digunakan untuk meninjau akurasi fungsi dan kita akan turut mencoba membuat grafik dari fungsi tersebut."
   ]
  },
  {
   "cell_type": "markdown",
   "id": "ac0cbdbc-a7a8-4ae0-b586-4f69fc47491c",
   "metadata": {},
   "source": [
    "## Appendix"
   ]
  },
  {
   "cell_type": "markdown",
   "id": "55c1de31-d215-4ac0-93dc-4d78c5eb9f00",
   "metadata": {},
   "source": [
    "### Fungsi Loss"
   ]
  },
  {
   "cell_type": "markdown",
   "id": "099a3a29-8062-450d-a2bc-9dc70190a755",
   "metadata": {},
   "source": [
    "Fungsi Loss digunakan untuk menilai kemiripan dari nilai fungsi yang didapatkan melalui aproksimasi Deret Maclauren dengan nilai fungsi yang sesungguhnya*. Fungsi Loss yang dipakai berupa MSE (*Mean-Squared Error*) yang dinyatakan sebagai:\n",
    "\n",
    "$$MSE = \\frac{1}{M}\\sum^m_{i=1}{(y_i - f(x_i))^2}$$\n",
    "\n",
    "Dengan $y$ menyatakan nilai sesungguhnya sementara nilai $f(x)$ menyatakan nilai aproksimasi"
   ]
  },
  {
   "cell_type": "code",
   "execution_count": 4,
   "id": "34ead4d3-7151-417c-8bdc-e28eee4d87a8",
   "metadata": {},
   "outputs": [],
   "source": [
    "def loss_function(true_value, approx):\n",
    "    '''\n",
    "    Memberikan nilai loss melalui MSE antara nilai sesungguhnya (true_value) dan nilai aproksimasi (approx)\n",
    "    Input:\n",
    "        true_value -> list dengan ukuran n, nilai sesungguhnya\n",
    "        approx -> list dengan ukuran n, nilai aproksimasi\n",
    "    Output:\n",
    "        mse_loss -> nilai loss_mse\n",
    "    '''\n",
    "    mse_loss = 0 #Inisialisasi nilai dari mse_loss\n",
    "    n = len(true_value) #jumlah data, dimensi true_value dan approx haruslah sama\n",
    "    \n",
    "    for i in range(n): #lakukan iterasi untuk tiap n\n",
    "        squared = (true_value[i]-approx[i])**2\n",
    "        mse_loss += squared #Jumlahkan nilai squared pada mse_loss\n",
    "    mse_loss /= n #bagi nilai mse_loss dengan n\n",
    "    \n",
    "    return mse_loss"
   ]
  },
  {
   "cell_type": "markdown",
   "id": "953a2e7b-2aee-4027-aafd-a34f0fd9b1da",
   "metadata": {},
   "source": [
    "Selanjutnya mari kita deklarasikan kembali fungsi sin(x) dengan mengaplikasikan loss yang telah kita buat untuk mengetahui perubahan nilai loss pada tiap iterasi. Sebagai pembanding, kita akan menggunakan fungsi bawaan python `math.sin` untuk mendapatkan nilai loss dari aproksimasi kita. Sementara itu modul `matplotlib.pyplot` akan digunakan untuk mem-plot perubahan dari nilai loss"
   ]
  },
  {
   "cell_type": "code",
   "execution_count": 1,
   "id": "2b8d8f66-e2fd-47df-8129-b37617d218d9",
   "metadata": {},
   "outputs": [],
   "source": [
    "import math\n",
    "import matplotlib.pyplot as plt"
   ]
  },
  {
   "cell_type": "code",
   "execution_count": 8,
   "id": "223f505e-9f6f-42eb-960e-40ca709250dc",
   "metadata": {},
   "outputs": [],
   "source": [
    "x = [i*6.28/100 for i in range(100)]\n",
    "losses = [] #deklarasi list untuk nilai-nilai loss\n",
    "true_value = list(map(math.sin, x)) #deklarasi untuk nilai sesungguhnya/pembanding\n",
    "\n",
    "iteration = 10 #jumlah iterasi\n",
    "for i in range(iteration):\n",
    "    function = lambda x, iteration = i: sin(x, iteration) #mendefinisikan fungsi sin menggunakan iterasi i\n",
    "    approx = list(map(function, x)) #memetakan fungsi tersebut pada nilai x\n",
    "    losses.append(loss_function(true_value, approx)) #menghitung nilai loss dan memasukkannya pada list losses"
   ]
  },
  {
   "cell_type": "code",
   "execution_count": null,
   "id": "7b748527-a24b-4ebc-9dda-7ba38332e949",
   "metadata": {},
   "outputs": [],
   "source": [
    "#Plot Nilai Loss\n",
    "plt.figure(figsize = (4,2))\n",
    "plt.plot(losses)\n",
    "plt.grid()\n",
    "plt.title('Nilai Loss pada Tiap Iterasi')\n",
    "plt.show()"
   ]
  },
  {
   "cell_type": "markdown",
   "id": "41e4cd12-87ed-45a1-a291-e889def917c5",
   "metadata": {},
   "source": [
    "Sebagai tambahan, mari kita coba mem-plot grafik sinus dan membandingkannya dengan nilai sesungguhnya seperti yang telah kita deklarasikan sebelumnya. Coba ganti fungsi sin(x) dengan fungsi cos(x) atau fungsi lainnya!"
   ]
  },
  {
   "cell_type": "code",
   "execution_count": null,
   "id": "a8ceb935-2d6f-42b8-913a-73cf0a523632",
   "metadata": {},
   "outputs": [],
   "source": [
    "#Plot Grafik Sinus\n",
    "iterasi = 10 #Ganti sesuai keinginan kalian\n",
    "\n",
    "function = lambda x, iteration = iterasi: sin(x, iteration)\n",
    "approx = list(map(function, x))\n",
    "true_value = list(map(math.sin, x))\n",
    "plt.figure(figsize = (5,3))\n",
    "plt.plot(x, approx, 'b', label = 'Aproksimasi')\n",
    "plt.plot(x, true_value, 'r--', label = 'Nilai Sesungguhnya')\n",
    "plt.grid()\n",
    "plt.legend()\n",
    "plt.title(f'Grafik Sinus pada Iterasi ke-{iterasi}')\n",
    "plt.show()"
   ]
  },
  {
   "cell_type": "markdown",
   "id": "c00143b1-8dde-4de7-abd0-1ccdfb0d7b11",
   "metadata": {},
   "source": [
    "Terima kasih karena telah membaca Appendix dari course ini. Tetap semangat untuk menjalani course selanjutnya!"
   ]
  },
  {
   "cell_type": "code",
   "execution_count": null,
   "id": "b81e6a50-099b-4956-8fdb-f3f63a7b1359",
   "metadata": {},
   "outputs": [],
   "source": []
  }
 ],
 "metadata": {
  "kernelspec": {
   "display_name": "Python (skin)",
   "language": "python",
   "name": "skin"
  },
  "language_info": {
   "codemirror_mode": {
    "name": "ipython",
    "version": 3
   },
   "file_extension": ".py",
   "mimetype": "text/x-python",
   "name": "python",
   "nbconvert_exporter": "python",
   "pygments_lexer": "ipython3",
   "version": "3.10.4"
  }
 },
 "nbformat": 4,
 "nbformat_minor": 5
}
