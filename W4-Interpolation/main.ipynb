{
 "cells": [
  {
   "cell_type": "markdown",
   "id": "133c77c6-29d5-47e2-a4c2-f759ced5ba30",
   "metadata": {},
   "source": [
    "<div style=\"text-align: center;\">\n",
    "    <h1> Interpolasi </h1>\n",
    "        <img src=\"images/Linear_Int.gif\" alt=\"Interpolasi Linear\" width=\"350\"/>\n",
    "    <img src=\"images/Lagrange_Int.gif\" alt=\"Interpolasi Lagrange\" width=\"350\"/>\n",
    "</div>"
   ]
  },
  {
   "cell_type": "code",
   "execution_count": null,
   "id": "1110408b-62bf-4f7f-97aa-84f351dee0f1",
   "metadata": {},
   "outputs": [],
   "source": []
  }
 ],
 "metadata": {
  "kernelspec": {
   "display_name": "Python (skin)",
   "language": "python",
   "name": "skin"
  },
  "language_info": {
   "codemirror_mode": {
    "name": "ipython",
    "version": 3
   },
   "file_extension": ".py",
   "mimetype": "text/x-python",
   "name": "python",
   "nbconvert_exporter": "python",
   "pygments_lexer": "ipython3",
   "version": "3.10.4"
  }
 },
 "nbformat": 4,
 "nbformat_minor": 5
}
