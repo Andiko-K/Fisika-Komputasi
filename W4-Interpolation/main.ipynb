{
 "cells": [
  {
   "cell_type": "markdown",
   "id": "133c77c6-29d5-47e2-a4c2-f759ced5ba30",
   "metadata": {},
   "source": [
    "<div style=\"text-align: center;\">\n",
    "    <h1> Interpolasi </h1>\n",
    "        <img src=\"images/Linear_Int.gif\" alt=\"Interpolasi Linear\" width=\"350\"/>\n",
    "    <img src=\"images/Lagrange_Int.gif\" alt=\"Interpolasi Lagrange\" width=\"350\"/>\n",
    "</div>\n",
    "\n",
    "Interpolasi merupakan metode matematis dalam memperkirakan nilai di antara titik-titik data yang diketahui. Namun, perlu diperhatikan bahwa Interpolasi sangatlah berbeda dengan Regresi walaupun secara sekilas keduanya sama-sama digunakan untuk memprediksi variabel."
   ]
  },
  {
   "cell_type": "markdown",
   "id": "272905cd-21d2-41b4-96e4-44946195b086",
   "metadata": {},
   "source": [
    "## Interpolasi vs Regresi\n",
    "\n",
    "| Aspek                  | Interpolasi                          | Regresi                     |\n",
    "|------------------------|----------------------------------|---------------------------------|\n",
    "| Tujuan | Memperkirakan nilai eksak dari titik-titik data yang diketahui| Menemukan hubungan antara variabel guna memahami pola data.\n",
    "| Karakteristik Garis | Garis interpolasi melewati seluruh titik data. | Garis regresi tidak perlu melewati seluruh titik data.\n",
    "|Sifat Model | Interpolasi tidak dapat digunakan untuk memprediksi nilai di luar titik data | Dapat digunakan untuk melakukan prediksi nilai output berdasarkan hubungan antara variabel.\n",
    "|Contoh Kasus | Pengukuran kecepatan gerak benda di antara dua pengukuran kecepatan yang telah diketahui.   | Prediksi hubungan harga rumah berdasarkan luas, lokasi, dan fitur lainnya.\n",
    "\n",
    "\n",
    "\n"
   ]
  },
  {
   "cell_type": "markdown",
   "id": "63835100-10eb-4a04-a57c-d22ce552910e",
   "metadata": {},
   "source": [
    "Terdapat banyak sekali metode yang dapat kita gunakan untuk melakukan interpolasi. Namun, pada course kali ini, kita akan bekerja dengan dua metode interpolasi, Interpolasi Linear dan Interpolasi Lagrange"
   ]
  },
  {
   "cell_type": "markdown",
   "id": "a06a2e73-cfa5-4f84-b31d-a5b2614d6926",
   "metadata": {},
   "source": [
    "## Import Dependencies"
   ]
  },
  {
   "cell_type": "code",
   "execution_count": 1,
   "id": "023c8856-7f8b-4786-b05d-516a78e1a726",
   "metadata": {},
   "outputs": [],
   "source": [
    "import numpy as np\n",
    "import matplotlib.pyplot as plt\n",
    "import utils"
   ]
  },
  {
   "cell_type": "markdown",
   "id": "78da672c-34bd-495f-a31a-69823abec1bd",
   "metadata": {
    "tags": []
   },
   "source": [
    "## Persiapan Data"
   ]
  },
  {
   "cell_type": "markdown",
   "id": "73de7c0f-0ffe-494a-8d61-bec8810b31cf",
   "metadata": {},
   "source": [
    "## Interpolasi Linear\n",
    "\n",
    "Dalam interpolasi linear, kita memperkirakan nilai dengan menghubungkan dua titik data dengan garis lurus menggunakan persamaan linear.\n",
    "\n",
    "<div style=\"text-align: center;\">\n",
    "        <img src=\"images/1.jpg\" alt=\"Linear1 \" width=\"500\"/>\n",
    "</div>\n",
    "\n",
    "Pada gambar di atas, nilai $(x_t,y_t)$ didapatkan melalui interpolasi dari $(x_1,y_1)$ dan $(x_2,y_2)$. Hal ini dicapai melalui Hukum Kesebangunan sebagaimana yang telah kita pelajari pada course minggu sebelumnya. Nilai gradien antara titik $1$ dan $t$ dengan titik $1$ dan $2$ dapat dinyatakan sebagai berikut:\n",
    "\n",
    "$$\\frac{y_t-y_1}{x_t-x_1} = \\frac{y_2-y_1}{x_2-x_1}$$\n",
    "\n",
    "Dengan demikian:\n",
    "\n",
    "$$y_t = \\frac{y_2-y_1}{x_2-x_1}(x_t-x_1)+y_1$$"
   ]
  },
  {
   "cell_type": "markdown",
   "id": "cdbf56de-1ae2-481e-b473-5594a314ca88",
   "metadata": {},
   "source": [
    "Sebelum kita mencoba membuat program dari fungsi di atas, kita perlu melihat bagaimana data interpolasi diberikan dalam course ini. Sebagai contoh diberikan data interpolasi sebagai berikut:\n",
    "\n",
    "$$points = \\{[x_1, y_1], [x_2,y_2]\\} = \\{[1, 3], [4,9]\\}$$\n",
    "\n",
    "Maka data $s$ akan dideklarasikan dalam bentuk ndarray sebagai\n",
    "<div style=\"text-align: center;\">\n",
    "    <code>points = np.array([[1, 3], [4, 9]]) </code>\n",
    "</div>\n",
    "Untuk mendapatkan nilai sumbu $x$ dari kedua data, kita bisa menggunakan *array slicing* sebagaimana yang terdapat dalam materi *Preliminaries* sebagai berikut:\n",
    "\n",
    "<div style=\"text-align: center;\">\n",
    "    <code> points_x = points[:,0] </code>\n",
    "</div>\n",
    "\n",
    "Slicing di atas berarti seluruh elemen pada baris array $points$ pada kolom pertama.\n"
   ]
  },
  {
   "cell_type": "code",
   "execution_count": 2,
   "id": "fdff4f3a-4100-4f6d-ba53-c9c731918a1a",
   "metadata": {},
   "outputs": [
    {
     "name": "stdout",
     "output_type": "stream",
     "text": [
      "Titik Data: \n",
      " [[1 3]\n",
      " [4 9]]\n",
      "Titik Data X: [1 4]\n",
      "Titik Data Y: [3 9]\n"
     ]
    }
   ],
   "source": [
    "points = np.array([[1,3],[4,9]])\n",
    "\n",
    "#Lakukan slicing untuk data sumbu x\n",
    "points_x = points[:,0]\n",
    "\n",
    "#Lakukan slicing untuk data sumbu y\n",
    "points_y = points[:,1]\n",
    "\n",
    "print(f'Titik Data: \\n {points}')\n",
    "print(f'Titik Data X: {points_x}')\n",
    "print(f'Titik Data Y: {points_y}')"
   ]
  },
  {
   "cell_type": "code",
   "execution_count": 3,
   "id": "64db94d6-3070-4083-bbe6-7f8a58d8072f",
   "metadata": {},
   "outputs": [
    {
     "name": "stdout",
     "output_type": "stream",
     "text": [
      "Titik Data X: [1 3]\n",
      "Titik Data Y: [4 9]\n",
      "Titik Data: \n",
      " [[1 4]\n",
      " [3 9]]\n"
     ]
    }
   ],
   "source": [
    "#Sementara itu, untuk menyusun data sebagaimana contoh data `points` di atas:\n",
    "\n",
    "#Diberikan data x dan data y sebagai berikut:\n",
    "points_x = np.array([1,3])\n",
    "points_y = np.array([4,9])\n",
    "\n",
    "#Gabungkan points_x dan points_y dengan:\n",
    "points = np.c_[points_x, points_y]\n",
    "\n",
    "print(f'Titik Data X: {points_x}')\n",
    "print(f'Titik Data Y: {points_y}')\n",
    "print(f'Titik Data: \\n {points}')"
   ]
  },
  {
   "cell_type": "code",
   "execution_count": 4,
   "id": "394d4e55-86c2-47b8-87cb-455474e1f3e2",
   "metadata": {},
   "outputs": [],
   "source": [
    "#Latihan 1: Interpolasi Linear\n",
    "def linear_int(x, points):\n",
    "    '''Interpolasi Linear titik x terhadap data yang telah diberikan\n",
    "    Input:\n",
    "        points (ndarray) -> array berdimensi 2x2 sebagai data interpolasi \n",
    "                            [[x1,y1], [x2,y2]]\n",
    "        x (float) -> nilai x yang akan diinterpolasi terhadap data points\n",
    "                    x1<=x<=x2\n",
    "    Output:\n",
    "        y (float) -> hasil interpolasi x'''\n",
    "    \n",
    "    x0, y0 = points[0]\n",
    "    x1, y1 = points[1]\n",
    "    return y0 + (y1 - y0) * (x - x0) / (x1 - x0)"
   ]
  },
  {
   "cell_type": "code",
   "execution_count": 5,
   "id": "a9091651-f9c0-4764-ab77-05e6950066fd",
   "metadata": {},
   "outputs": [
    {
     "name": "stderr",
     "output_type": "stream",
     "text": [
      "...\n",
      "----------------------------------------------------------------------\n",
      "Ran 3 tests in 0.003s\n",
      "\n",
      "OK\n"
     ]
    }
   ],
   "source": [
    "utils.run_tests1(linear_int)"
   ]
  },
  {
   "cell_type": "markdown",
   "id": "d889dd29-7617-4043-aab5-cd3f2975bc4c",
   "metadata": {},
   "source": [
    "Mari kita coba fungsi di atas"
   ]
  },
  {
   "cell_type": "code",
   "execution_count": 10,
   "id": "eda6a49e-4564-4734-90ff-bee9bf3d6c12",
   "metadata": {},
   "outputs": [
    {
     "name": "stdout",
     "output_type": "stream",
     "text": [
      "Hasil Interpolasi dari titik 2 ialah 5.0\n"
     ]
    }
   ],
   "source": [
    "points = np.array([[1,3],[4,9]])\n",
    "x = 2\n",
    "y = linear_int(x, points)\n",
    "print(f'Hasil Interpolasi dari titik {x} ialah {y}')"
   ]
  },
  {
   "cell_type": "markdown",
   "id": "a6506da3-b5fa-4109-9d09-95acc243ee1f",
   "metadata": {},
   "source": [
    "Kita bisa membuat garis interpolasi dari kedua titik di atas sebagai berikut:"
   ]
  },
  {
   "cell_type": "code",
   "execution_count": 19,
   "id": "b37581dc-7de6-4425-b316-b9590abbc22e",
   "metadata": {},
   "outputs": [
    {
     "data": {
      "image/png": "[encoded data removed]",
      "text/plain": [
       "<Figure size 640x480 with 1 Axes>"
      ]
     },
     "metadata": {},
     "output_type": "display_data"
    }
   ],
   "source": [
    "points = np.array([[1,3],[4,9]])\n",
    "points_x = points[:,0] #ambil titik x\n",
    "points_y = points[:,1] #ambil titik y\n",
    "\n",
    "#tarik garis dari nilai x minimum ke nilai x maksimum\n",
    "x = np.linspace(points_x.min(), points_x.max(), 10) \n",
    "\n",
    "#gunakan sifat broadcasting array dari numpy untuk mendapatkan nilai interpolasi\n",
    "y = linear_int(x, points)\n",
    "\n",
    "#plot garis nilai hasil interpolasi y:\n",
    "plt.plot(x,y, color = 'red')\n",
    "plt.scatter(points_x, points_y, color = 'blue')\n",
    "plt.grid()\n",
    "plt.title('Interpolasi Linear')\n",
    "plt.show()"
   ]
  },
  {
   "cell_type": "markdown",
   "id": "9e23153e-3571-4e80-8ad0-5fc38c37b901",
   "metadata": {},
   "source": [
    "## Interpolasi Piecewise Linear"
   ]
  },
  {
   "cell_type": "markdown",
   "id": "49c40420-bc54-4588-9fa7-dd6072ac2b83",
   "metadata": {},
   "source": [
    "Interpolasi Piecewise linear merupakan metode interpolasi suatu fungsi menggunakan serangkaian garis linear yang menghubungkan titik-titik data. \n",
    "\n",
    "Sebagai contoh, pada gambar di bawah kita mencoba melakukan interpolasi fungsi kuadrat menggunakan 10 titik yang dihubungkan menggunakan interpolasi linear. Dapat dilihat bahwa hasil yang didapatkan dari interpolasi ini tidaklah kontinu dan hasil yang didapatkan masih kasar. Akan tetapi, jika kita menambahkan titik data observasi, hasil interpolasi piecewise akan lebih halus.\n",
    "\n",
    "<div style=\"text-align: center;\">\n",
    "        <img src=\"images/2.gif\" alt=\"Piecewise2 \" width=\"500\"/>\n",
    "</div>"
   ]
  },
  {
   "cell_type": "markdown",
   "id": "4bba8a79-98c4-44ef-bb91-22c76c813641",
   "metadata": {},
   "source": [
    "Dalam Interpolasi Linear Piecewise, hal yang perlu kita lakukan ialah:\n",
    "1. Tentukan dua titik acuan terdekat ($X_A$ dan $X_B$) (dalam hal ini kita mengambil dua titik paling kiri terlebih dahulu)\n",
    "2. Ambil titik interpolasi $X_I$ di antara titik ($X_A$ dan $X_B$)\n",
    "3. Lakukan interpolasi titik $X_I$ sehingga membentuk garis antara kedua titik acuan\n",
    "4. Geser titik acuan dan lakukan interpolasi untuk titik interpolasi di antara titik acuan\n",
    "5. Ulangi langkah-langkah sebelumnya hingga dicapai titik terakhir"
   ]
  },
  {
   "cell_type": "code",
   "execution_count": null,
   "id": "0d0e7937-bf7f-4102-abc4-a60a3661ee6e",
   "metadata": {},
   "outputs": [],
   "source": [
    "#latihan 2\n",
    "def interpolate(x_array, value_array):\n",
    "    y_array = []\n",
    "    index = 1\n",
    "    for x in x_array:\n",
    "        if x > value_array[index, 0]:\n",
    "            index += 1\n",
    "            \n",
    "        y = linear_int(x, value_array[index-1:index+1])\n",
    "        y_array.append(y)\n",
    "\n",
    "    return y_array"
   ]
  },
  {
   "cell_type": "markdown",
   "id": "3d4a37fb-c3b5-4ad5-9da8-c2233be95a4c",
   "metadata": {},
   "source": [
    "## Interpolasi Lagrange"
   ]
  },
  {
   "cell_type": "markdown",
   "id": "3cc8bf4a-5387-41ec-894e-688b6b411173",
   "metadata": {},
   "source": [
    "Interpolasi Lagrange merupakan metode interpolasi yang digunakan untuk menemukan polinom dari sekumpulan titik data. Hal ini berbeda dari interpolasi sebelumnya yang menggunakan garis linear. Jika kita diberikan data sejumlah $n+1$ titik, maka interpolasi Lagrange memberikan polinom berderajat $n$. Pada gambar berikut, diberikan contoh dari Interpolasi Lagrange dalam mendekati fungsi sinusoidal.\n",
    "\n",
    "<div style=\"text-align: center;\">\n",
    "    <img src=\"images/Lagrange_Int.gif\" alt=\"Interpolasi Lagrange\" width=\"500\"/>\n",
    "</div>\n",
    "\n",
    "Interpolasi Lagrange dirumuskan sebagai:\n",
    "\n",
    "$$P(x) = \\sum^n_{i=0} y_i L_i(x)$$\n",
    "\n",
    "dengan $L_i$ menyatakan polinom lagrange yang dinyatakan sebagai:\n",
    "\n",
    "$$L_i(x) = \\prod_{\\substack{0 \\le j \\le n \\\\ j \\ne i}}^n \\frac{x - x_j}{x_i - x_j}$$\n",
    "\n",
    "Sebagai contoh, diberikan data $\\{(x_1,y_1),(x_2,y_2),(x_3,y_3)\\}$.\n",
    "$L_1(x)$ didefinisikan sebagai:\n",
    "\n",
    "$$L_1(x) = \\frac{x-x_2}{x_1-x_2} \\times \\frac{x-x_3}{x_1-x_3}$$\n",
    "\n",
    "Dengan menyelesaikan nilai $L_2$ dan $L_3$, kita mendapatkan:\n",
    "$$P(x) = y_1L_1(x) + y_2L_2(x) + y_3L_3(x)$$\n",
    "\n",
    "Kita dapat menyelesaikan persamaan ini lebih mudah dengan menggunakan program loop."
   ]
  },
  {
   "cell_type": "code",
   "execution_count": null,
   "id": "90ff85fe-c9c5-468e-b403-c3888d8c4beb",
   "metadata": {},
   "outputs": [],
   "source": [
    "def lagrange_int(x,value,n):\n",
    "    result = 0\n",
    "    for i in range(0,n+1):\n",
    "        lagrange_val = 1\n",
    "        for j in range(0,n+1):\n",
    "            if not i == j:\n",
    "                lagrange_val*= ((x-value[j][0])/(value[i][0]-value[j][0]))\n",
    "        result += lagrange_val*value[i][-1]\n",
    "    return result"
   ]
  }
 ],
 "metadata": {
  "kernelspec": {
   "display_name": "Python (skin)",
   "language": "python",
   "name": "skin"
  },
  "language_info": {
   "codemirror_mode": {
    "name": "ipython",
    "version": 3
   },
   "file_extension": ".py",
   "mimetype": "text/x-python",
   "name": "python",
   "nbconvert_exporter": "python",
   "pygments_lexer": "ipython3",
   "version": "3.10.4"
  }
 },
 "nbformat": 4,
 "nbformat_minor": 5
}
