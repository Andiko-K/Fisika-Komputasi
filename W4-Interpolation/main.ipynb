{
 "cells": [
  {
   "cell_type": "markdown",
   "id": "133c77c6-29d5-47e2-a4c2-f759ced5ba30",
   "metadata": {},
   "source": [
    "<div style=\"text-align: center;\">\n",
    "    <h1> Interpolasi </h1>\n",
    "        <img src=\"images/Linear_Int.gif\" alt=\"Interpolasi Linear\" width=\"350\"/>\n",
    "    <img src=\"images/Lagrange_Int.gif\" alt=\"Interpolasi Lagrange\" width=\"350\"/>\n",
    "</div>\n",
    "\n",
    "Interpolasi merupakan metode matematis dalam memperkirakan nilai di antara titik-titik data yang diketahui. Namun, perlu diperhatikan bahwa Interpolasi sangatlah berbeda dengan Regresi walaupun secara sekilas keduanya sama-sama digunakan untuk memprediksi variabel."
   ]
  },
  {
   "cell_type": "markdown",
   "id": "272905cd-21d2-41b4-96e4-44946195b086",
   "metadata": {},
   "source": [
    "## Interpolasi vs Regresi\n",
    "\n",
    "| Aspek                  | Interpolasi                          | Regresi                     |\n",
    "|------------------------|----------------------------------|---------------------------------|\n",
    "| Tujuan | Memperkirakan nilai eksak dari titik-titik data yang diketahui| Menemukan hubungan antara variabel guna memahami pola data.\n",
    "| Karakteristik Garis | Garis interpolasi melewati seluruh titik data. | Garis regresi tidak perlu melewati seluruh titik data.\n",
    "|Sifat Model | Interpolasi tidak dapat digunakan untuk memprediksi nilai di luar titik data | Dapat digunakan untuk melakukan prediksi nilai output berdasarkan hubungan antara variabel.\n",
    "|Contoh Kasus | Pengukuran kecepatan gerak benda di antara dua pengukuran kecepatan yang telah diketahui.   | Prediksi hubungan harga rumah berdasarkan luas, lokasi, dan fitur lainnya.\n",
    "\n",
    "\n",
    "\n"
   ]
  },
  {
   "cell_type": "markdown",
   "id": "63835100-10eb-4a04-a57c-d22ce552910e",
   "metadata": {},
   "source": [
    "Terdapat banyak sekali metode yang dapat kita gunakan untuk melakukan interpolasi. Namun, pada course kali ini, kita akan bekerja dengan dua metode interpolasi, Interpolasi Linear dan Interpolasi Lagrange"
   ]
  },
  {
   "cell_type": "markdown",
   "id": "a06a2e73-cfa5-4f84-b31d-a5b2614d6926",
   "metadata": {},
   "source": [
    "## Import Dependencies"
   ]
  },
  {
   "cell_type": "code",
   "execution_count": 1,
   "id": "023c8856-7f8b-4786-b05d-516a78e1a726",
   "metadata": {},
   "outputs": [],
   "source": [
    "import numpy as np\n",
    "import matplotlib.pyplot as plt\n",
    "import utils"
   ]
  },
  {
   "cell_type": "markdown",
   "id": "78da672c-34bd-495f-a31a-69823abec1bd",
   "metadata": {
    "tags": []
   },
   "source": [
    "## Persiapan Data"
   ]
  },
  {
   "cell_type": "markdown",
   "id": "73de7c0f-0ffe-494a-8d61-bec8810b31cf",
   "metadata": {},
   "source": [
    "## Interpolasi Linear\n",
    "\n",
    "Dalam interpolasi linear, kita memperkirakan nilai dengan menghubungkan dua titik data dengan garis lurus menggunakan persamaan linear.\n",
    "\n",
    "<div style=\"text-align: center;\">\n",
    "        <img src=\"images/1.jpg\" alt=\"Linear1 \" width=\"500\"/>\n",
    "</div>\n",
    "\n",
    "Pada gambar di atas, nilai $(x_t,y_t)$ didapatkan melalui interpolasi dari $(x_1,y_1)$ dan $(x_2,y_2)$. Hal ini dicapai melalui Hukum Kesebangunan sebagaimana yang telah kita pelajari pada course minggu sebelumnya. Nilai gradien antara titik $1$ dan $t$ dengan titik $1$ dan $2$ dapat dinyatakan sebagai berikut:\n",
    "\n",
    "$$\\frac{y_t-y_1}{x_t-x_1} = \\frac{y_2-y_1}{x_2-x_1}$$\n",
    "\n",
    "Dengan demikian:\n",
    "\n",
    "$$y_t = \\frac{y_2-y_1}{x_2-x_1}(x_t-x_1)+y_1$$"
   ]
  },
  {
   "cell_type": "markdown",
   "id": "cdbf56de-1ae2-481e-b473-5594a314ca88",
   "metadata": {},
   "source": [
    "Sebelum kita mencoba membuat program dari fungsi di atas, kita perlu melihat bagaimana data interpolasi diberikan dalam course ini. Sebagai contoh diberikan data interpolasi sebagai berikut:\n",
    "\n",
    "$$points = \\{[x_1, y_1], [x_2,y_2]\\} = \\{[1, 3], [4,9]\\}$$\n",
    "\n",
    "Maka data $s$ akan dideklarasikan dalam bentuk ndarray sebagai\n",
    "<div style=\"text-align: center;\">\n",
    "    <code>points = np.array([[1, 3], [4, 9]]) </code>\n",
    "</div>\n",
    "Untuk mendapatkan nilai sumbu $x$ dari kedua data, kita bisa menggunakan *array slicing* sebagaimana yang terdapat dalam materi *Preliminaries* sebagai berikut:\n",
    "\n",
    "<div style=\"text-align: center;\">\n",
    "    <code> points_x = points[:,0] </code>\n",
    "</div>\n",
    "\n",
    "Slicing di atas berarti seluruh elemen pada baris array $points$ pada kolom pertama.\n"
   ]
  },
  {
   "cell_type": "code",
   "execution_count": 2,
   "id": "fdff4f3a-4100-4f6d-ba53-c9c731918a1a",
   "metadata": {},
   "outputs": [
    {
     "name": "stdout",
     "output_type": "stream",
     "text": [
      "Titik Data: \n",
      " [[1 3]\n",
      " [4 9]]\n",
      "Titik Data X: [1 4]\n",
      "Titik Data Y: [3 9]\n"
     ]
    }
   ],
   "source": [
    "points = np.array([[1,3],[4,9]])\n",
    "\n",
    "#Lakukan slicing untuk data sumbu x\n",
    "points_x = points[:,0]\n",
    "\n",
    "#Lakukan slicing untuk data sumbu y\n",
    "points_y = points[:,1]\n",
    "\n",
    "print(f'Titik Data: \\n {points}')\n",
    "print(f'Titik Data X: {points_x}')\n",
    "print(f'Titik Data Y: {points_y}')"
   ]
  },
  {
   "cell_type": "code",
   "execution_count": 3,
   "id": "64db94d6-3070-4083-bbe6-7f8a58d8072f",
   "metadata": {},
   "outputs": [
    {
     "name": "stdout",
     "output_type": "stream",
     "text": [
      "Titik Data X: [1 3]\n",
      "Titik Data Y: [4 9]\n",
      "Titik Data: \n",
      " [[1 4]\n",
      " [3 9]]\n"
     ]
    }
   ],
   "source": [
    "#Sementara itu, untuk menyusun data sebagaimana contoh data `points` di atas:\n",
    "\n",
    "#Diberikan data x dan data y sebagai berikut:\n",
    "points_x = np.array([1,3])\n",
    "points_y = np.array([4,9])\n",
    "\n",
    "#Gabungkan points_x dan points_y dengan:\n",
    "points = np.c_[points_x, points_y]\n",
    "\n",
    "print(f'Titik Data X: {points_x}')\n",
    "print(f'Titik Data Y: {points_y}')\n",
    "print(f'Titik Data: \\n {points}')"
   ]
  },
  {
   "cell_type": "code",
   "execution_count": 4,
   "id": "394d4e55-86c2-47b8-87cb-455474e1f3e2",
   "metadata": {},
   "outputs": [],
   "source": [
    "#Latihan 1\n",
    "def linear_int(x, points):\n",
    "    '''Interpolasi Linear titik x terhadap data yang telah diberikan\n",
    "    Input:\n",
    "        points (ndarray) -> array berdimensi 2x2 sebagai data interpolasi \n",
    "                            [[x1,y1], [x2,y2]]\n",
    "        x (float) -> nilai x yang akan diinterpolasi terhadap data points\n",
    "                    x1<=x<=x2\n",
    "    Output:\n",
    "        y (float) -> hasil interpolasi x'''\n",
    "    \n",
    "    x0, y0 = points[0]\n",
    "    x1, y1 = points[1]\n",
    "    return y0 + (y1 - y0) * (x - x0) / (x1 - x0)"
   ]
  },
  {
   "cell_type": "code",
   "execution_count": 5,
   "id": "a9091651-f9c0-4764-ab77-05e6950066fd",
   "metadata": {},
   "outputs": [
    {
     "name": "stderr",
     "output_type": "stream",
     "text": [
      "...\n",
      "----------------------------------------------------------------------\n",
      "Ran 3 tests in 0.002s\n",
      "\n",
      "OK\n"
     ]
    }
   ],
   "source": [
    "utils.run_tests1(linear_int)"
   ]
  },
  {
   "cell_type": "markdown",
   "id": "d889dd29-7617-4043-aab5-cd3f2975bc4c",
   "metadata": {},
   "source": [
    "Mari kita coba fungsi di atas"
   ]
  },
  {
   "cell_type": "code",
   "execution_count": 6,
   "id": "eda6a49e-4564-4734-90ff-bee9bf3d6c12",
   "metadata": {},
   "outputs": [
    {
     "name": "stdout",
     "output_type": "stream",
     "text": [
      "Hasil Interpolasi dari titik 2 ialah 5.0\n"
     ]
    }
   ],
   "source": [
    "points = np.array([[1,3],[4,9]])\n",
    "x = 2\n",
    "y = linear_int(x, points)\n",
    "print(f'Hasil Interpolasi dari titik {x} ialah {y}')"
   ]
  },
  {
   "cell_type": "markdown",
   "id": "a6506da3-b5fa-4109-9d09-95acc243ee1f",
   "metadata": {},
   "source": [
    "Kita bisa membuat garis interpolasi dari kedua titik di atas sebagai berikut:"
   ]
  },
  {
   "cell_type": "code",
   "execution_count": 7,
   "id": "b37581dc-7de6-4425-b316-b9590abbc22e",
   "metadata": {},
   "outputs": [
    {
     "data": {
      "image/png": "[encoded data removed]",
      "text/plain": [
       "<Figure size 640x480 with 1 Axes>"
      ]
     },
     "metadata": {},
     "output_type": "display_data"
    }
   ],
   "source": [
    "points = np.array([[1,3],[4,9]])\n",
    "points_x = points[:,0] #ambil titik x\n",
    "points_y = points[:,1] #ambil titik y\n",
    "\n",
    "#tarik garis dari nilai x minimum ke nilai x maksimum\n",
    "x = np.linspace(points_x.min(), points_x.max(), 10) \n",
    "\n",
    "#gunakan sifat broadcasting array dari numpy untuk mendapatkan nilai interpolasi\n",
    "y = linear_int(x, points)\n",
    "\n",
    "#plot garis nilai hasil interpolasi y:\n",
    "plt.plot(x,y, color = 'red')\n",
    "plt.scatter(points_x, points_y, color = 'blue')\n",
    "plt.grid()\n",
    "plt.title('Interpolasi Linear')\n",
    "plt.show()"
   ]
  },
  {
   "cell_type": "markdown",
   "id": "9e23153e-3571-4e80-8ad0-5fc38c37b901",
   "metadata": {},
   "source": [
    "## Interpolasi Piecewise Linear"
   ]
  },
  {
   "cell_type": "markdown",
   "id": "49c40420-bc54-4588-9fa7-dd6072ac2b83",
   "metadata": {},
   "source": [
    "Interpolasi Piecewise linear merupakan metode interpolasi suatu fungsi menggunakan serangkaian garis linear yang menghubungkan titik-titik data. \n",
    "\n",
    "Sebagai contoh, pada gambar di bawah kita mencoba melakukan interpolasi fungsi kuadrat menggunakan 10 titik yang dihubungkan menggunakan interpolasi linear. Dapat dilihat bahwa hasil yang didapatkan dari interpolasi ini tidaklah kontinu dan hasil yang didapatkan masih kasar. Akan tetapi, jika kita menambahkan titik data observasi, hasil interpolasi piecewise akan lebih halus.\n",
    "\n",
    "<div style=\"text-align: center;\">\n",
    "        <img src=\"images/2.gif\" alt=\"Piecewise2 \" width=\"500\"/>\n",
    "</div>"
   ]
  },
  {
   "cell_type": "markdown",
   "id": "4bba8a79-98c4-44ef-bb91-22c76c813641",
   "metadata": {},
   "source": [
    "Dalam Interpolasi Linear Piecewise, hal yang perlu kita lakukan ialah:\n",
    "1. Tentukan dua titik acuan terdekat ($X_A$ dan $X_B$) (dalam hal ini kita mengambil dua titik paling kiri terlebih dahulu)\n",
    "2. Ambil titik interpolasi $X_I$ di antara titik ($X_A$ dan $X_B$)\n",
    "3. Lakukan interpolasi titik $X_I$ sehingga membentuk garis antara kedua titik acuan\n",
    "4. Geser titik acuan dan lakukan interpolasi untuk titik interpolasi di antara titik acuan\n",
    "5. Ulangi langkah-langkah sebelumnya hingga dicapai titik terakhir"
   ]
  },
  {
   "cell_type": "code",
   "execution_count": 8,
   "id": "6a8918a0-2816-40d6-8b51-8a0015512741",
   "metadata": {},
   "outputs": [
    {
     "data": {
      "image/png": "[encoded data removed]",
      "text/plain": [
       "<Figure size 500x200 with 1 Axes>"
      ]
     },
     "metadata": {},
     "output_type": "display_data"
    }
   ],
   "source": [
    "#Mari kita lihat bentuk data yang akan kita kerjakan\n",
    "points = utils.piecewise_data\n",
    "points_x = points[:,0] #ambil titik x\n",
    "points_y = points[:,1] #ambil titik y\n",
    "\n",
    "#Plot titik-titik data\n",
    "plt.figure(figsize = (5,2))\n",
    "plt.scatter(points_x, points_y, color = 'blue')\n",
    "plt.grid()\n",
    "plt.title('Interpolasi Piecewise')\n",
    "plt.show()\n",
    "\n",
    "#Nilai x untuk Interpolasi Piecewise merupakan array yg ditarik dari points_x terkecil ke points_x terbesar\n",
    "x_array = np.linspace(points_x.min(), points_x.max(), 100) "
   ]
  },
  {
   "cell_type": "code",
   "execution_count": 12,
   "id": "0d0e7937-bf7f-4102-abc4-a60a3661ee6e",
   "metadata": {},
   "outputs": [],
   "source": [
    "#latihan 2\n",
    "def piecewise_lin(x_array, points):\n",
    "    '''\n",
    "    Menentukan hasil Interpolasi Piecewise berdasarkan titik-titik points\n",
    "    Input:\n",
    "        points: data titik-titik interpolasi berdimensi nx2\n",
    "        x_array: array titik-titik x yang ditarik dari data points sumbu x terkecil ke terbesar\n",
    "    Output:\n",
    "        y_array: array titik-titik y hasil interpolasi\n",
    "    '''\n",
    "    y_array = []\n",
    "    index = 1\n",
    "    for x in x_array:\n",
    "        if x > points[index, 0]:\n",
    "            index += 1\n",
    "            \n",
    "        y = linear_int(x, points[index-1:index+1])\n",
    "        y_array.append(y)\n",
    "\n",
    "    return y_array"
   ]
  },
  {
   "cell_type": "code",
   "execution_count": 13,
   "id": "988e95f3-f9a8-4958-9c7b-8574a0cf0b63",
   "metadata": {},
   "outputs": [
    {
     "name": "stderr",
     "output_type": "stream",
     "text": [
      ".\n",
      "----------------------------------------------------------------------\n",
      "Ran 1 test in 0.060s\n",
      "\n",
      "OK\n"
     ]
    }
   ],
   "source": [
    "utils.run_tests2(piecewise_lin)"
   ]
  },
  {
   "cell_type": "markdown",
   "id": "415d145f-85aa-4e0c-b04f-7778c6bdd763",
   "metadata": {},
   "source": [
    "Mari kita coba fungsi di atas"
   ]
  },
  {
   "cell_type": "code",
   "execution_count": 19,
   "id": "a76dbb70-32a3-42b2-bd3c-96dc7fc8edf5",
   "metadata": {},
   "outputs": [
    {
     "data": {
      "image/png": "[encoded data removed]",
      "text/plain": [
       "<Figure size 600x300 with 1 Axes>"
      ]
     },
     "metadata": {},
     "output_type": "display_data"
    }
   ],
   "source": [
    "#Interpolasikan titik random yang menyerupai grafik sinusoidal\n",
    "points = utils.generate_points(np.sin, num = 10, left_bound = -np.pi, right_bound = np.pi)\n",
    "\n",
    "points_x = points[:,0] #ambil titik x\n",
    "points_y = points[:,1] #ambil titik y\n",
    "\n",
    "#Nilai x untuk Interpolasi Piecewise merupakan array yg ditarik dari points_x terkecil ke points_x terbesar\n",
    "x_array = np.linspace(points_x.min(), points_x.max(), 100) \n",
    "\n",
    "#Interpolasikan x_array\n",
    "y_array = piecewise_lin(x_array, points)\n",
    "\n",
    "#Plot titik-titik data\n",
    "plt.figure(figsize = (6,3))\n",
    "plt.scatter(points_x, points_y, color = 'blue')\n",
    "plt.plot(x_array, y_array, color = 'red')\n",
    "plt.grid()\n",
    "plt.title('Interpolasi Piecewise')\n",
    "plt.show()"
   ]
  },
  {
   "cell_type": "markdown",
   "id": "48a22415-a3be-4f48-ba92-32333154833c",
   "metadata": {},
   "source": [
    "Jika hasil interpolasi piecewise masih terlalu kasar, silakan tingkatkan parameter `num` pada fungsi `generate_points`!"
   ]
  },
  {
   "cell_type": "markdown",
   "id": "3d4a37fb-c3b5-4ad5-9da8-c2233be95a4c",
   "metadata": {},
   "source": [
    "## Interpolasi Lagrange"
   ]
  },
  {
   "cell_type": "markdown",
   "id": "3cc8bf4a-5387-41ec-894e-688b6b411173",
   "metadata": {},
   "source": [
    "Interpolasi Lagrange merupakan metode interpolasi yang digunakan untuk menemukan polinom dari sekumpulan titik data. Hal ini berbeda dari interpolasi sebelumnya yang menggunakan garis linear. Jika kita diberikan data sejumlah $n+1$ titik, maka interpolasi Lagrange memberikan polinom berderajat $n$. Pada gambar berikut, diberikan contoh dari Interpolasi Lagrange dalam mendekati fungsi sinusoidal.\n",
    "\n",
    "<div style=\"text-align: center;\">\n",
    "    <img src=\"images/Lagrange_Int.gif\" alt=\"Interpolasi Lagrange\" width=\"500\"/>\n",
    "</div>\n",
    "\n",
    "Interpolasi Lagrange dirumuskan sebagai:\n",
    "\n",
    "$$P(x) = \\sum^n_{i=0} y_i L_i(x)$$\n",
    "\n",
    "dengan $L_i$ menyatakan polinom lagrange yang dinyatakan sebagai:\n",
    "\n",
    "$$L_i(x) = \\prod_{\\substack{0 \\le j \\le n \\\\ j \\ne i}}^n \\frac{x - x_j}{x_i - x_j}$$\n",
    "\n",
    "Sebagai contoh, diberikan data $\\{(x_1,y_1),(x_2,y_2),(x_3,y_3)\\}$.\n",
    "$L_1(x)$ didefinisikan sebagai:\n",
    "\n",
    "$$L_1(x) = \\frac{x-x_2}{x_1-x_2} \\times \\frac{x-x_3}{x_1-x_3}$$\n",
    "\n",
    "Dengan menyelesaikan nilai $L_2$ dan $L_3$, kita mendapatkan:\n",
    "$$P(x) = y_1L_1(x) + y_2L_2(x) + y_3L_3(x)$$\n",
    "\n",
    "Kita dapat menyelesaikan persamaan ini lebih mudah dengan menggunakan program loop."
   ]
  },
  {
   "cell_type": "code",
   "execution_count": 1,
   "id": "5aa6519a-5793-4bf8-83af-6fec46c04287",
   "metadata": {},
   "outputs": [],
   "source": [
    "import numpy as np\n",
    "import utils"
   ]
  },
  {
   "cell_type": "code",
   "execution_count": 2,
   "id": "90ff85fe-c9c5-468e-b403-c3888d8c4beb",
   "metadata": {},
   "outputs": [],
   "source": [
    "#Latihan 3\n",
    "def lagrange_int(x,points):\n",
    "    '''\n",
    "    Menentukan hasil Interpolasi Lagrange berdasarkan titik-titik points\n",
    "    Input:\n",
    "        points: data titik-titik interpolasi berdimensi nx2\n",
    "        x (float) -> nilai x yang akan diinterpolasi terhadap data points\n",
    "    Output:\n",
    "        y (float) -> hasil interpolasi x\n",
    "    '''\n",
    "    result = 0\n",
    "    n = len(points)-1\n",
    "    for i in range(0,n+1):\n",
    "        lagrange_val = 1\n",
    "        for j in range(0,n+1):\n",
    "            if not i == j:\n",
    "                lagrange_val*= ((x-points[j][0])/(points[i][0]-points[j][0]))\n",
    "        result += lagrange_val*points[i][-1]\n",
    "    return result"
   ]
  },
  {
   "cell_type": "code",
   "execution_count": 3,
   "id": "7288e4ea-b738-4015-a561-08043e1b9e58",
   "metadata": {},
   "outputs": [
    {
     "name": "stderr",
     "output_type": "stream",
     "text": [
      "..F\n",
      "======================================================================\n",
      "FAIL: test_case_3 (utils.TestLagrangeInt)\n",
      "----------------------------------------------------------------------\n",
      "Traceback (most recent call last):\n",
      "  File \"/home/andikoputrapk/skin/lib/python3.10/site-packages/timeout_decorator/timeout_decorator.py\", line 82, in new_function\n",
      "    return function(*args, **kwargs)\n",
      "  File \"/home/andikoputrapk/FisikaKomputasi/W4-Interpolation/utils.py\", line 112, in test_case_3\n",
      "    self.assertAlmostEqual(result, expected_result, delta = 1e-3)\n",
      "AssertionError: 0.36332946492984847 != 0.28366218546322625 within 0.001 delta (0.07966727946662222 difference)\n",
      "\n",
      "----------------------------------------------------------------------\n",
      "Ran 3 tests in 0.003s\n",
      "\n",
      "FAILED (failures=1)\n"
     ]
    }
   ],
   "source": [
    "utils.run_tests3(lagrange_int)"
   ]
  },
  {
   "cell_type": "markdown",
   "id": "11aed81d-be27-4fe3-8592-aa7e062b1c8e",
   "metadata": {},
   "source": [
    "Mari kita coba fungsi di atas"
   ]
  },
  {
   "cell_type": "code",
   "execution_count": 24,
   "id": "46274b9c-72f8-4545-80a2-419dfc5c2f14",
   "metadata": {},
   "outputs": [
    {
     "name": "stdout",
     "output_type": "stream",
     "text": [
      "Hasil Interpolasi Lagrange dari titik 2 ialah 0.91\n"
     ]
    }
   ],
   "source": [
    "#Interpolasikan titik random yang menyerupai grafik sinusoidal\n",
    "points = utils.generate_points(np.sin, num = 11, left_bound = -np.pi, right_bound = np.pi)\n",
    "x = 2\n",
    "y = lagrange_int(x, points)\n",
    "print(f'Hasil Interpolasi Lagrange dari titik {x} ialah {y:.2f}')"
   ]
  },
  {
   "cell_type": "markdown",
   "id": "5fc96914-ea5e-4e6a-9673-e4757091d46d",
   "metadata": {},
   "source": [
    "Selain itu, mari kita coba buat grafik hasil interpolasi"
   ]
  },
  {
   "cell_type": "code",
   "execution_count": 29,
   "id": "844728d3-9b3e-49c0-8a1f-89b89792eb12",
   "metadata": {},
   "outputs": [
    {
     "data": {
      "image/png": "[encoded data removed]",
      "text/plain": [
       "<Figure size 600x300 with 1 Axes>"
      ]
     },
     "metadata": {},
     "output_type": "display_data"
    }
   ],
   "source": [
    "#Interpolasikan titik random yang menyerupai grafik sinusoidal\n",
    "points = utils.generate_points(np.sin, num = 10, left_bound = -np.pi, right_bound = np.pi)\n",
    "points_x = points[:,0] #ambil titik x\n",
    "points_y = points[:,1] #ambil titik y\n",
    "\n",
    "#tarik garis dari nilai x minimum ke nilai x maksimum\n",
    "x = np.linspace(points_x.min(), points_x.max(), 100) \n",
    "\n",
    "#gunakan sifat broadcasting array dari numpy untuk mendapatkan nilai interpolasi\n",
    "y = lagrange_int(x, points)\n",
    "\n",
    "#plot garis nilai hasil interpolasi y:\n",
    "plt.figure(figsize = (6,3))\n",
    "plt.plot(x,y, color = 'red')\n",
    "plt.scatter(points_x, points_y, color = 'blue')\n",
    "plt.grid()\n",
    "plt.title('Interpolasi Lagrange')\n",
    "plt.show()"
   ]
  },
  {
   "cell_type": "markdown",
   "id": "8e7f5353-da08-4b36-91d9-3b49da51060b",
   "metadata": {},
   "source": [
    "Anda dapat bereksperimen dengan data titik interpolasi atau fungsi yang berbeda!"
   ]
  },
  {
   "cell_type": "code",
   "execution_count": null,
   "id": "3dec5614-e68c-4d06-b973-b4696eac8551",
   "metadata": {},
   "outputs": [],
   "source": []
  }
 ],
 "metadata": {
  "kernelspec": {
   "display_name": "Python (skin)",
   "language": "python",
   "name": "skin"
  },
  "language_info": {
   "codemirror_mode": {
    "name": "ipython",
    "version": 3
   },
   "file_extension": ".py",
   "mimetype": "text/x-python",
   "name": "python",
   "nbconvert_exporter": "python",
   "pygments_lexer": "ipython3",
   "version": "3.10.4"
  }
 },
 "nbformat": 4,
 "nbformat_minor": 5
}
